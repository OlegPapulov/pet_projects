{
 "cells": [
  {
   "cell_type": "markdown",
   "id": "9b44b7a5",
   "metadata": {},
   "source": [
    "## Data loading and preprocessing"
   ]
  },
  {
   "cell_type": "code",
   "execution_count": 1,
   "id": "3ec04ba1",
   "metadata": {},
   "outputs": [],
   "source": [
    "import pandas as pd\n",
    "from tqdm import tqdm\n",
    "import random"
   ]
  },
  {
   "cell_type": "code",
   "execution_count": 2,
   "id": "9436bf82",
   "metadata": {},
   "outputs": [],
   "source": [
    "df1 = pd.read_csv('without_unknown_train0102.csv')\n",
    "df2 = pd.read_csv('unknown_labelled.csv')\n",
    "df2 = df2.drop(columns=['id'])"
   ]
  },
  {
   "cell_type": "code",
   "execution_count": 3,
   "id": "3a95b2ed",
   "metadata": {
    "scrolled": true
   },
   "outputs": [
    {
     "data": {
      "text/html": [
       "<div>\n",
       "<style scoped>\n",
       "    .dataframe tbody tr th:only-of-type {\n",
       "        vertical-align: middle;\n",
       "    }\n",
       "\n",
       "    .dataframe tbody tr th {\n",
       "        vertical-align: top;\n",
       "    }\n",
       "\n",
       "    .dataframe thead th {\n",
       "        text-align: right;\n",
       "    }\n",
       "</style>\n",
       "<table border=\"1\" class=\"dataframe\">\n",
       "  <thead>\n",
       "    <tr style=\"text-align: right;\">\n",
       "      <th></th>\n",
       "      <th>data</th>\n",
       "      <th>label</th>\n",
       "    </tr>\n",
       "  </thead>\n",
       "  <tbody>\n",
       "    <tr>\n",
       "      <th>0</th>\n",
       "      <td>Вы как что взяли 3000 рублей? Вас не смущает ч...</td>\n",
       "      <td>0</td>\n",
       "    </tr>\n",
       "    <tr>\n",
       "      <th>1</th>\n",
       "      <td>Ищу программиста 1С в г. Липецк\\r\\n#вакансия #...</td>\n",
       "      <td>1C-разработчик</td>\n",
       "    </tr>\n",
       "    <tr>\n",
       "      <th>2</th>\n",
       "      <td>Business analyst в IQVIA\\r\\n\\r\\nteletype.in/@d...</td>\n",
       "      <td>Бизнес-аналитик</td>\n",
       "    </tr>\n",
       "    <tr>\n",
       "      <th>3</th>\n",
       "      <td>• Middle Python разработчик в Центробит, Москв...</td>\n",
       "      <td>Python-разработчик</td>\n",
       "    </tr>\n",
       "    <tr>\n",
       "      <th>4</th>\n",
       "      <td>Ruby Backend Developer (+Gо)\\r\\nв Staply — пер...</td>\n",
       "      <td>Ruby-разработчик</td>\n",
       "    </tr>\n",
       "  </tbody>\n",
       "</table>\n",
       "</div>"
      ],
      "text/plain": [
       "                                                data               label\n",
       "0  Вы как что взяли 3000 рублей? Вас не смущает ч...                   0\n",
       "1  Ищу программиста 1С в г. Липецк\\r\\n#вакансия #...      1C-разработчик\n",
       "2  Business analyst в IQVIA\\r\\n\\r\\nteletype.in/@d...     Бизнес-аналитик\n",
       "3  • Middle Python разработчик в Центробит, Москв...  Python-разработчик\n",
       "4  Ruby Backend Developer (+Gо)\\r\\nв Staply — пер...    Ruby-разработчик"
      ]
     },
     "execution_count": 3,
     "metadata": {},
     "output_type": "execute_result"
    }
   ],
   "source": [
    "df1.head()"
   ]
  },
  {
   "cell_type": "code",
   "execution_count": 4,
   "id": "f9da118f",
   "metadata": {
    "scrolled": true
   },
   "outputs": [
    {
     "data": {
      "text/html": [
       "<div>\n",
       "<style scoped>\n",
       "    .dataframe tbody tr th:only-of-type {\n",
       "        vertical-align: middle;\n",
       "    }\n",
       "\n",
       "    .dataframe tbody tr th {\n",
       "        vertical-align: top;\n",
       "    }\n",
       "\n",
       "    .dataframe thead th {\n",
       "        text-align: right;\n",
       "    }\n",
       "</style>\n",
       "<table border=\"1\" class=\"dataframe\">\n",
       "  <thead>\n",
       "    <tr style=\"text-align: right;\">\n",
       "      <th></th>\n",
       "      <th>data</th>\n",
       "      <th>label</th>\n",
       "    </tr>\n",
       "  </thead>\n",
       "  <tbody>\n",
       "    <tr>\n",
       "      <th>0</th>\n",
       "      <td>Team Lead (C#, JavaScript)\\nв Тандер, Магнит —...</td>\n",
       "      <td>Несколько вакансий</td>\n",
       "    </tr>\n",
       "    <tr>\n",
       "      <th>1</th>\n",
       "      <td>Разработка Telegram ботов любой сложности!\\n\\n...</td>\n",
       "      <td>0</td>\n",
       "    </tr>\n",
       "    <tr>\n",
       "      <th>2</th>\n",
       "      <td>IT-рекрутер в STREAM (ПАО МТС): stream.ru\\n\\nО...</td>\n",
       "      <td>IT-рекрутер</td>\n",
       "    </tr>\n",
       "    <tr>\n",
       "      <th>3</th>\n",
       "      <td>Marketing Assistant в Nestle\\n\\nteletype.in/@d...</td>\n",
       "      <td>non-IT</td>\n",
       "    </tr>\n",
       "    <tr>\n",
       "      <th>4</th>\n",
       "      <td>• Software Engineer (iOS, Android, React Nativ...</td>\n",
       "      <td>Несколько вакансий</td>\n",
       "    </tr>\n",
       "  </tbody>\n",
       "</table>\n",
       "</div>"
      ],
      "text/plain": [
       "                                                data               label\n",
       "0  Team Lead (C#, JavaScript)\\nв Тандер, Магнит —...  Несколько вакансий\n",
       "1  Разработка Telegram ботов любой сложности!\\n\\n...                   0\n",
       "2  IT-рекрутер в STREAM (ПАО МТС): stream.ru\\n\\nО...         IT-рекрутер\n",
       "3  Marketing Assistant в Nestle\\n\\nteletype.in/@d...              non-IT\n",
       "4  • Software Engineer (iOS, Android, React Nativ...  Несколько вакансий"
      ]
     },
     "execution_count": 4,
     "metadata": {},
     "output_type": "execute_result"
    }
   ],
   "source": [
    "df2.head()"
   ]
  },
  {
   "cell_type": "code",
   "execution_count": 5,
   "id": "459e272a",
   "metadata": {},
   "outputs": [],
   "source": [
    "df = pd.concat([df1, df2])"
   ]
  },
  {
   "cell_type": "code",
   "execution_count": 6,
   "id": "a631ceb3",
   "metadata": {
    "scrolled": true
   },
   "outputs": [
    {
     "data": {
      "text/html": [
       "<div>\n",
       "<style scoped>\n",
       "    .dataframe tbody tr th:only-of-type {\n",
       "        vertical-align: middle;\n",
       "    }\n",
       "\n",
       "    .dataframe tbody tr th {\n",
       "        vertical-align: top;\n",
       "    }\n",
       "\n",
       "    .dataframe thead th {\n",
       "        text-align: right;\n",
       "    }\n",
       "</style>\n",
       "<table border=\"1\" class=\"dataframe\">\n",
       "  <thead>\n",
       "    <tr style=\"text-align: right;\">\n",
       "      <th></th>\n",
       "      <th>data</th>\n",
       "      <th>label</th>\n",
       "    </tr>\n",
       "  </thead>\n",
       "  <tbody>\n",
       "    <tr>\n",
       "      <th>2378</th>\n",
       "      <td>Давно не встречал вакансий экономистов 😁 может...</td>\n",
       "      <td>0</td>\n",
       "    </tr>\n",
       "    <tr>\n",
       "      <th>332</th>\n",
       "      <td>Team Lead / Программист PHP (PHP5+, JavaScript...</td>\n",
       "      <td>PHP-разработчик</td>\n",
       "    </tr>\n",
       "    <tr>\n",
       "      <th>330</th>\n",
       "      <td>CEO/Head of Product\\nв Uniqum — школа развития...</td>\n",
       "      <td>Несколько вакансий</td>\n",
       "    </tr>\n",
       "    <tr>\n",
       "      <th>2202</th>\n",
       "      <td>#вакансия #python #спб                        ...</td>\n",
       "      <td>Python-разработчик</td>\n",
       "    </tr>\n",
       "    <tr>\n",
       "      <th>1224</th>\n",
       "      <td>вакансия #удаленно #remote #Angular #Typescrip...</td>\n",
       "      <td>Full Stack разработчик</td>\n",
       "    </tr>\n",
       "  </tbody>\n",
       "</table>\n",
       "</div>"
      ],
      "text/plain": [
       "                                                   data  \\\n",
       "2378  Давно не встречал вакансий экономистов 😁 может...   \n",
       "332   Team Lead / Программист PHP (PHP5+, JavaScript...   \n",
       "330   CEO/Head of Product\\nв Uniqum — школа развития...   \n",
       "2202  #вакансия #python #спб                        ...   \n",
       "1224  вакансия #удаленно #remote #Angular #Typescrip...   \n",
       "\n",
       "                       label  \n",
       "2378                       0  \n",
       "332          PHP-разработчик  \n",
       "330       Несколько вакансий  \n",
       "2202      Python-разработчик  \n",
       "1224  Full Stack разработчик  "
      ]
     },
     "execution_count": 6,
     "metadata": {},
     "output_type": "execute_result"
    }
   ],
   "source": [
    "df.sample(5)"
   ]
  },
  {
   "cell_type": "code",
   "execution_count": 7,
   "id": "5e2d099a",
   "metadata": {},
   "outputs": [
    {
     "data": {
      "text/plain": [
       "1    2867\n",
       "0    1119\n",
       "Name: vacancy, dtype: int64"
      ]
     },
     "execution_count": 7,
     "metadata": {},
     "output_type": "execute_result"
    }
   ],
   "source": [
    "df['vacancy'] = df['label'].apply(lambda x: 1 if x!='0' else 0)\n",
    "df['vacancy'].value_counts()"
   ]
  },
  {
   "cell_type": "code",
   "execution_count": 8,
   "id": "d9e5e8a4",
   "metadata": {},
   "outputs": [
    {
     "data": {
      "text/plain": [
       "IT        2256\n",
       "non-IT    1730\n",
       "Name: IT, dtype: int64"
      ]
     },
     "execution_count": 8,
     "metadata": {},
     "output_type": "execute_result"
    }
   ],
   "source": [
    "df['IT'] = df['label'].apply(lambda x: 'non-IT' if (x=='non-IT' or x=='0') else 'IT')\n",
    "df['IT'].value_counts()"
   ]
  },
  {
   "cell_type": "code",
   "execution_count": 9,
   "id": "344a73d7",
   "metadata": {
    "scrolled": false
   },
   "outputs": [
    {
     "data": {
      "text/html": [
       "<div>\n",
       "<style scoped>\n",
       "    .dataframe tbody tr th:only-of-type {\n",
       "        vertical-align: middle;\n",
       "    }\n",
       "\n",
       "    .dataframe tbody tr th {\n",
       "        vertical-align: top;\n",
       "    }\n",
       "\n",
       "    .dataframe thead th {\n",
       "        text-align: right;\n",
       "    }\n",
       "</style>\n",
       "<table border=\"1\" class=\"dataframe\">\n",
       "  <thead>\n",
       "    <tr style=\"text-align: right;\">\n",
       "      <th></th>\n",
       "      <th>data</th>\n",
       "      <th>label</th>\n",
       "      <th>vacancy</th>\n",
       "      <th>IT</th>\n",
       "    </tr>\n",
       "  </thead>\n",
       "  <tbody>\n",
       "    <tr>\n",
       "      <th>1394</th>\n",
       "      <td>#вакансия #java #техлид\\r\\n\\r\\nВакансия: Techn...</td>\n",
       "      <td>Java-разработчик</td>\n",
       "      <td>1</td>\n",
       "      <td>IT</td>\n",
       "    </tr>\n",
       "    <tr>\n",
       "      <th>294</th>\n",
       "      <td>#вакансия #москва #офис #fulltime \\n\\nКомпания...</td>\n",
       "      <td>IT-рекрутер</td>\n",
       "      <td>1</td>\n",
       "      <td>IT</td>\n",
       "    </tr>\n",
       "    <tr>\n",
       "      <th>47</th>\n",
       "      <td>#вакансия #Unity #Москва #удаленка \\nГород и а...</td>\n",
       "      <td>Unity 3D разработчик</td>\n",
       "      <td>1</td>\n",
       "      <td>IT</td>\n",
       "    </tr>\n",
       "    <tr>\n",
       "      <th>1814</th>\n",
       "      <td>#hr #вакансия #удаленно #россия#js #react #ful...</td>\n",
       "      <td>React-разработчик</td>\n",
       "      <td>1</td>\n",
       "      <td>IT</td>\n",
       "    </tr>\n",
       "    <tr>\n",
       "      <th>2822</th>\n",
       "      <td>#Вакансия #Senior #QA #full-time #remote\\r\\nВа...</td>\n",
       "      <td>QA-Инженер</td>\n",
       "      <td>1</td>\n",
       "      <td>IT</td>\n",
       "    </tr>\n",
       "  </tbody>\n",
       "</table>\n",
       "</div>"
      ],
      "text/plain": [
       "                                                   data                 label  \\\n",
       "1394  #вакансия #java #техлид\\r\\n\\r\\nВакансия: Techn...      Java-разработчик   \n",
       "294   #вакансия #москва #офис #fulltime \\n\\nКомпания...           IT-рекрутер   \n",
       "47    #вакансия #Unity #Москва #удаленка \\nГород и а...  Unity 3D разработчик   \n",
       "1814  #hr #вакансия #удаленно #россия#js #react #ful...     React-разработчик   \n",
       "2822  #Вакансия #Senior #QA #full-time #remote\\r\\nВа...            QA-Инженер   \n",
       "\n",
       "      vacancy  IT  \n",
       "1394        1  IT  \n",
       "294         1  IT  \n",
       "47          1  IT  \n",
       "1814        1  IT  \n",
       "2822        1  IT  "
      ]
     },
     "execution_count": 9,
     "metadata": {},
     "output_type": "execute_result"
    }
   ],
   "source": [
    "df.sample(5)"
   ]
  },
  {
   "cell_type": "markdown",
   "id": "5708c1a3",
   "metadata": {},
   "source": [
    "## 'Vacancy' filter (featuring spacy)"
   ]
  },
  {
   "cell_type": "code",
   "execution_count": 10,
   "id": "783ccb18",
   "metadata": {},
   "outputs": [],
   "source": [
    "import spacy\n",
    "from spacy.tokens import DocBin"
   ]
  },
  {
   "cell_type": "code",
   "execution_count": 54,
   "id": "71d06699",
   "metadata": {},
   "outputs": [
    {
     "data": {
      "text/html": [
       "<div>\n",
       "<style scoped>\n",
       "    .dataframe tbody tr th:only-of-type {\n",
       "        vertical-align: middle;\n",
       "    }\n",
       "\n",
       "    .dataframe tbody tr th {\n",
       "        vertical-align: top;\n",
       "    }\n",
       "\n",
       "    .dataframe thead th {\n",
       "        text-align: right;\n",
       "    }\n",
       "</style>\n",
       "<table border=\"1\" class=\"dataframe\">\n",
       "  <thead>\n",
       "    <tr style=\"text-align: right;\">\n",
       "      <th></th>\n",
       "      <th>data</th>\n",
       "      <th>vacancy</th>\n",
       "    </tr>\n",
       "  </thead>\n",
       "  <tbody>\n",
       "    <tr>\n",
       "      <th>60</th>\n",
       "      <td>Главный аналитик BI (Финансовый Маркетплейс) в...</td>\n",
       "      <td>1</td>\n",
       "    </tr>\n",
       "    <tr>\n",
       "      <th>1322</th>\n",
       "      <td>Добрый день, нахожусь в поиске программиста 1С...</td>\n",
       "      <td>1</td>\n",
       "    </tr>\n",
       "    <tr>\n",
       "      <th>838</th>\n",
       "      <td>#Javascript #React или Angular  #remote\\r\\nМы ...</td>\n",
       "      <td>1</td>\n",
       "    </tr>\n",
       "    <tr>\n",
       "      <th>2899</th>\n",
       "      <td>#Москва #data_scientist #полный_день #data #оф...</td>\n",
       "      <td>1</td>\n",
       "    </tr>\n",
       "    <tr>\n",
       "      <th>151</th>\n",
       "      <td>Business Analyst в Abbott\\r\\n\\r\\nteletype.in/@...</td>\n",
       "      <td>1</td>\n",
       "    </tr>\n",
       "  </tbody>\n",
       "</table>\n",
       "</div>"
      ],
      "text/plain": [
       "                                                   data  vacancy\n",
       "60    Главный аналитик BI (Финансовый Маркетплейс) в...        1\n",
       "1322  Добрый день, нахожусь в поиске программиста 1С...        1\n",
       "838   #Javascript #React или Angular  #remote\\r\\nМы ...        1\n",
       "2899  #Москва #data_scientist #полный_день #data #оф...        1\n",
       "151   Business Analyst в Abbott\\r\\n\\r\\nteletype.in/@...        1"
      ]
     },
     "execution_count": 54,
     "metadata": {},
     "output_type": "execute_result"
    }
   ],
   "source": [
    "df_vacancy = df[['data', 'vacancy']]\n",
    "df_vacancy.sample(5)"
   ]
  },
  {
   "cell_type": "code",
   "execution_count": 55,
   "id": "470f1d78",
   "metadata": {
    "scrolled": true
   },
   "outputs": [],
   "source": [
    "vac_train_data = []\n",
    "\n",
    "for i in range(len(df_vacancy)):\n",
    "    vac_train_data.append((df_vacancy.iloc[i, 0], df_vacancy.iloc[i, 1]))"
   ]
  },
  {
   "cell_type": "code",
   "execution_count": 56,
   "id": "c92e63dd",
   "metadata": {},
   "outputs": [],
   "source": [
    "def make_docs(data):\n",
    "    docs = []\n",
    "    for doc, label in nlp.pipe(data, as_tuples = True):\n",
    "        if label == 0:\n",
    "            doc.cats['non-vacancy'] = 1\n",
    "        else:\n",
    "            doc.cats['vacancy'] = 1\n",
    "        docs.append(doc)\n",
    "    return (docs)"
   ]
  },
  {
   "cell_type": "code",
   "execution_count": 57,
   "id": "0998a922",
   "metadata": {},
   "outputs": [],
   "source": [
    "nlp = spacy.load('ru_core_news_sm')"
   ]
  },
  {
   "cell_type": "code",
   "execution_count": 58,
   "id": "f0826c40",
   "metadata": {},
   "outputs": [
    {
     "data": {
      "application/javascript": [
       "\n",
       "        if (window._pyforest_update_imports_cell) { window._pyforest_update_imports_cell('import numpy as np'); }\n",
       "    "
      ],
      "text/plain": [
       "<IPython.core.display.Javascript object>"
      ]
     },
     "metadata": {},
     "output_type": "display_data"
    },
    {
     "data": {
      "text/plain": [
       "3189"
      ]
     },
     "execution_count": 58,
     "metadata": {},
     "output_type": "execute_result"
    }
   ],
   "source": [
    "num_texts = int(np.round(len(df_vacancy)*0.8))\n",
    "num_texts"
   ]
  },
  {
   "cell_type": "code",
   "execution_count": 59,
   "id": "a8ebeb5e",
   "metadata": {},
   "outputs": [],
   "source": [
    "train_docs = make_docs(vac_train_data[:num_texts])\n",
    "doc_bin = DocBin(docs=train_docs)\n",
    "doc_bin.to_disk(\"./vacancy_classifier/train.spacy\")\n",
    "\n",
    "valid_docs = make_docs(vac_train_data[num_texts:])\n",
    "doc_bin = DocBin(docs=valid_docs)\n",
    "doc_bin.to_disk(\"./vacancy_classifier/valid.spacy\")"
   ]
  },
  {
   "cell_type": "code",
   "execution_count": 60,
   "id": "51613d48",
   "metadata": {
    "scrolled": true
   },
   "outputs": [
    {
     "name": "stdout",
     "output_type": "stream",
     "text": [
      "[+] Auto-filled config with all values\n"
     ]
    },
    {
     "name": "stderr",
     "output_type": "stream",
     "text": [
      "2021-07-11 16:50:56.242616: W tensorflow/stream_executor/platform/default/dso_loader.cc:64] Could not load dynamic library 'cudart64_110.dll'; dlerror: cudart64_110.dll not found\n",
      "2021-07-11 16:50:56.242787: I tensorflow/stream_executor/cuda/cudart_stub.cc:29] Ignore above cudart dlerror if you do not have a GPU set up on your machine.\n"
     ]
    },
    {
     "name": "stdout",
     "output_type": "stream",
     "text": [
      "[+] Saved config\n",
      "vac_config.cfg\n",
      "You can now add your data and train your pipeline:\n",
      "python -m spacy train vac_config.cfg --paths.train ./train.spacy --paths.dev ./dev.spacy\n"
     ]
    }
   ],
   "source": [
    "!python -m spacy init fill-config ./vac_base_config.cfg ./vac_config.cfg"
   ]
  },
  {
   "cell_type": "code",
   "execution_count": 61,
   "id": "862aa813",
   "metadata": {
    "scrolled": false
   },
   "outputs": [
    {
     "name": "stdout",
     "output_type": "stream",
     "text": [
      "[i] Using CPU"
     ]
    },
    {
     "name": "stderr",
     "output_type": "stream",
     "text": [
      "2021-07-11 16:50:59.233757: W tensorflow/stream_executor/platform/default/dso_loader.cc:64] Could not load dynamic library 'cudart64_110.dll'; dlerror: cudart64_110.dll not found\n",
      "2021-07-11 16:50:59.233963: I tensorflow/stream_executor/cuda/cudart_stub.cc:29] Ignore above cudart dlerror if you do not have a GPU set up on your machine.\n",
      "[2021-07-11 16:51:01,247] [INFO] Set up nlp object from config\n",
      "[2021-07-11 16:51:01,253] [INFO] Pipeline: ['tok2vec', 'textcat']\n",
      "[2021-07-11 16:51:01,256] [INFO] Created vocabulary\n",
      "[2021-07-11 16:51:01,256] [INFO] Finished initializing nlp object\n",
      "[2021-07-11 16:51:10,196] [INFO] Initialized pipeline components: ['tok2vec', 'textcat']\n",
      "Traceback (most recent call last):\n",
      "  File \"D:\\Python\\Python39\\lib\\runpy.py\", line 197, in _run_module_as_main\n",
      "    return _run_code(code, main_globals, None,\n",
      "  File \"D:\\Python\\Python39\\lib\\runpy.py\", line 87, in _run_code\n",
      "    exec(code, run_globals)\n",
      "  File \"D:\\Python\\Python39\\lib\\site-packages\\spacy\\__main__.py\", line 4, in <module>\n",
      "    setup_cli()\n",
      "  File \"D:\\Python\\Python39\\lib\\site-packages\\spacy\\cli\\_util.py\", line 69, in setup_cli\n",
      "    command(prog_name=COMMAND)\n",
      "  File \"D:\\Python\\Python39\\lib\\site-packages\\click\\core.py\", line 829, in __call__\n",
      "    return self.main(*args, **kwargs)\n",
      "  File \"D:\\Python\\Python39\\lib\\site-packages\\click\\core.py\", line 782, in main\n",
      "    rv = self.invoke(ctx)\n",
      "  File \"D:\\Python\\Python39\\lib\\site-packages\\click\\core.py\", line 1259, in invoke\n",
      "    return _process_result(sub_ctx.command.invoke(sub_ctx))\n",
      "  File \"D:\\Python\\Python39\\lib\\site-packages\\click\\core.py\", line 1066, in invoke\n",
      "    return ctx.invoke(self.callback, **ctx.params)\n",
      "  File \"D:\\Python\\Python39\\lib\\site-packages\\click\\core.py\", line 610, in invoke\n",
      "    return callback(*args, **kwargs)\n",
      "  File \"D:\\Python\\Python39\\lib\\site-packages\\typer\\main.py\", line 497, in wrapper\n",
      "    return callback(**use_params)  # type: ignore\n",
      "  File \"D:\\Python\\Python39\\lib\\site-packages\\spacy\\cli\\train.py\", line 59, in train_cli\n",
      "    train(nlp, output_path, use_gpu=use_gpu, stdout=sys.stdout, stderr=sys.stderr)\n",
      "  File \"D:\\Python\\Python39\\lib\\site-packages\\spacy\\training\\loop.py\", line 115, in train\n",
      "    raise e\n",
      "  File \"D:\\Python\\Python39\\lib\\site-packages\\spacy\\training\\loop.py\", line 98, in train\n",
      "    for batch, info, is_best_checkpoint in training_step_iterator:\n",
      "  File \"D:\\Python\\Python39\\lib\\site-packages\\spacy\\training\\loop.py\", line 213, in train_while_improving\n",
      "    score, other_scores = evaluate()\n",
      "  File \"D:\\Python\\Python39\\lib\\site-packages\\spacy\\training\\loop.py\", line 268, in evaluate\n",
      "    scores = nlp.evaluate(dev_corpus(nlp))\n",
      "  File \"D:\\Python\\Python39\\lib\\site-packages\\spacy\\language.py\", line 1355, in evaluate\n",
      "    for doc, eg in zip(\n",
      "  File \"D:\\Python\\Python39\\lib\\site-packages\\spacy\\util.py\", line 1484, in _pipe\n",
      "    yield from proc.pipe(docs, **kwargs)\n",
      "  File \"spacy\\pipeline\\trainable_pipe.pyx\", line 79, in pipe\n",
      "  File \"D:\\Python\\Python39\\lib\\site-packages\\spacy\\util.py\", line 1503, in raise_error\n",
      "    raise e\n",
      "  File \"spacy\\pipeline\\trainable_pipe.pyx\", line 75, in spacy.pipeline.trainable_pipe.TrainablePipe.pipe\n",
      "  File \"D:\\Python\\Python39\\lib\\site-packages\\spacy\\pipeline\\tok2vec.py\", line 121, in predict\n",
      "    tokvecs = self.model.predict(docs)\n",
      "  File \"D:\\Python\\Python39\\lib\\site-packages\\thinc\\model.py\", line 312, in predict\n",
      "    return self._func(self, X, is_train=False)[0]\n",
      "  File \"D:\\Python\\Python39\\lib\\site-packages\\thinc\\layers\\chain.py\", line 54, in forward\n",
      "    Y, inc_layer_grad = layer(X, is_train=is_train)\n",
      "  File \"D:\\Python\\Python39\\lib\\site-packages\\thinc\\model.py\", line 288, in __call__\n",
      "    return self._func(self, X, is_train=is_train)\n",
      "  File \"D:\\Python\\Python39\\lib\\site-packages\\thinc\\layers\\with_array.py\", line 40, in forward\n",
      "    return _list_forward(cast(Model[List2d, List2d], model), Xseq, is_train)\n",
      "  File \"D:\\Python\\Python39\\lib\\site-packages\\thinc\\layers\\with_array.py\", line 76, in _list_forward\n",
      "    Yf, get_dXf = layer(Xf, is_train)\n",
      "  File \"D:\\Python\\Python39\\lib\\site-packages\\thinc\\model.py\", line 288, in __call__\n",
      "    return self._func(self, X, is_train=is_train)\n",
      "  File \"D:\\Python\\Python39\\lib\\site-packages\\thinc\\layers\\chain.py\", line 54, in forward\n",
      "    Y, inc_layer_grad = layer(X, is_train=is_train)\n",
      "  File \"D:\\Python\\Python39\\lib\\site-packages\\thinc\\model.py\", line 288, in __call__\n",
      "    return self._func(self, X, is_train=is_train)\n",
      "  File \"D:\\Python\\Python39\\lib\\site-packages\\thinc\\layers\\residual.py\", line 40, in forward\n",
      "    Y, backprop_layer = model.layers[0](X, is_train)\n",
      "  File \"D:\\Python\\Python39\\lib\\site-packages\\thinc\\model.py\", line 288, in __call__\n",
      "    return self._func(self, X, is_train=is_train)\n",
      "  File \"D:\\Python\\Python39\\lib\\site-packages\\thinc\\layers\\chain.py\", line 54, in forward\n",
      "    Y, inc_layer_grad = layer(X, is_train=is_train)\n",
      "  File \"D:\\Python\\Python39\\lib\\site-packages\\thinc\\model.py\", line 288, in __call__\n",
      "    return self._func(self, X, is_train=is_train)\n",
      "  File \"D:\\Python\\Python39\\lib\\site-packages\\thinc\\layers\\chain.py\", line 54, in forward\n",
      "    Y, inc_layer_grad = layer(X, is_train=is_train)\n",
      "  File \"D:\\Python\\Python39\\lib\\site-packages\\thinc\\model.py\", line 288, in __call__\n",
      "    return self._func(self, X, is_train=is_train)\n",
      "  File \"D:\\Python\\Python39\\lib\\site-packages\\thinc\\layers\\chain.py\", line 54, in forward\n",
      "    Y, inc_layer_grad = layer(X, is_train=is_train)\n",
      "  File \"D:\\Python\\Python39\\lib\\site-packages\\thinc\\model.py\", line 288, in __call__\n",
      "    return self._func(self, X, is_train=is_train)\n",
      "  File \"D:\\Python\\Python39\\lib\\site-packages\\thinc\\layers\\maxout.py\", line 49, in forward\n",
      "    Y = model.ops.gemm(X, W, trans2=True)\n",
      "  File \"thinc\\backends\\numpy_ops.pyx\", line 91, in thinc.backends.numpy_ops.NumpyOps.gemm\n",
      "  File \"blis\\py.pyx\", line 72, in blis.py.gemm\n",
      "numpy.core._exceptions.MemoryError: Unable to allocate 95.9 MiB for an array with shape (87275, 288) and data type float32\n"
     ]
    },
    {
     "name": "stdout",
     "output_type": "stream",
     "text": [
      "\n",
      "\u001b[1m\n",
      "=========================== Initializing pipeline ===========================\u001b[0m\n",
      "[+] Initialized pipeline\n",
      "\u001b[1m\n",
      "============================= Training pipeline =============================\u001b[0m\n",
      "[i] Pipeline: ['tok2vec', 'textcat']\n",
      "[i] Initial learn rate: 0.001\n",
      "E    #       LOSS TOK2VEC  LOSS TEXTCAT  CATS_SCORE  SCORE \n",
      "---  ------  ------------  ------------  ----------  ------\n",
      "[!] Aborting and saving the final best model. Encountered exception:\n",
      "MemoryError((87275, 288), dtype('float32'))\n"
     ]
    }
   ],
   "source": [
    "!python -m spacy train vac_config.cfg --output ./vac_output"
   ]
  },
  {
   "cell_type": "markdown",
   "id": "7e42c316",
   "metadata": {},
   "source": [
    "## 'IT' filter (featuring spacy)"
   ]
  },
  {
   "cell_type": "code",
   "execution_count": 19,
   "id": "7fe53786",
   "metadata": {
    "scrolled": true
   },
   "outputs": [
    {
     "data": {
      "text/html": [
       "<div>\n",
       "<style scoped>\n",
       "    .dataframe tbody tr th:only-of-type {\n",
       "        vertical-align: middle;\n",
       "    }\n",
       "\n",
       "    .dataframe tbody tr th {\n",
       "        vertical-align: top;\n",
       "    }\n",
       "\n",
       "    .dataframe thead th {\n",
       "        text-align: right;\n",
       "    }\n",
       "</style>\n",
       "<table border=\"1\" class=\"dataframe\">\n",
       "  <thead>\n",
       "    <tr style=\"text-align: right;\">\n",
       "      <th></th>\n",
       "      <th>data</th>\n",
       "      <th>IT</th>\n",
       "    </tr>\n",
       "  </thead>\n",
       "  <tbody>\n",
       "    <tr>\n",
       "      <th>117</th>\n",
       "      <td>​​🎉 Команда New.HR и GeekJob.ru поздравляет вс...</td>\n",
       "      <td>non-IT</td>\n",
       "    </tr>\n",
       "    <tr>\n",
       "      <th>2413</th>\n",
       "      <td>· ⎉ ·\\r\\n\\r\\nПривет! Меня зовут Ксения Закомор...</td>\n",
       "      <td>non-IT</td>\n",
       "    </tr>\n",
       "    <tr>\n",
       "      <th>2276</th>\n",
       "      <td>Вакансия: QA Automation\\r\\nКомпания: Сбер (Сбе...</td>\n",
       "      <td>IT</td>\n",
       "    </tr>\n",
       "    <tr>\n",
       "      <th>2129</th>\n",
       "      <td>#вакансия #Москва #frontend #senior #lead #lea...</td>\n",
       "      <td>IT</td>\n",
       "    </tr>\n",
       "    <tr>\n",
       "      <th>1468</th>\n",
       "      <td>seems legit</td>\n",
       "      <td>non-IT</td>\n",
       "    </tr>\n",
       "  </tbody>\n",
       "</table>\n",
       "</div>"
      ],
      "text/plain": [
       "                                                   data      IT\n",
       "117   ​​🎉 Команда New.HR и GeekJob.ru поздравляет вс...  non-IT\n",
       "2413  · ⎉ ·\\r\\n\\r\\nПривет! Меня зовут Ксения Закомор...  non-IT\n",
       "2276  Вакансия: QA Automation\\r\\nКомпания: Сбер (Сбе...      IT\n",
       "2129  #вакансия #Москва #frontend #senior #lead #lea...      IT\n",
       "1468                                        seems legit  non-IT"
      ]
     },
     "execution_count": 19,
     "metadata": {},
     "output_type": "execute_result"
    }
   ],
   "source": [
    "df_it = df[['data', 'IT']]\n",
    "df_it.sample(5)"
   ]
  },
  {
   "cell_type": "code",
   "execution_count": 20,
   "id": "79328eaa",
   "metadata": {
    "scrolled": false
   },
   "outputs": [
    {
     "name": "stderr",
     "output_type": "stream",
     "text": [
      "<ipython-input-20-ae244801e245>:1: SettingWithCopyWarning: \n",
      "A value is trying to be set on a copy of a slice from a DataFrame.\n",
      "Try using .loc[row_indexer,col_indexer] = value instead\n",
      "\n",
      "See the caveats in the documentation: https://pandas.pydata.org/pandas-docs/stable/user_guide/indexing.html#returning-a-view-versus-a-copy\n",
      "  df_it['IT'] = df['IT'].apply(lambda x: 1 if 'IT' else 0)\n"
     ]
    }
   ],
   "source": [
    "df_it['IT'] = df['IT'].apply(lambda x: 1 if 'IT' else 0)"
   ]
  },
  {
   "cell_type": "code",
   "execution_count": 21,
   "id": "27eeaac9",
   "metadata": {},
   "outputs": [
    {
     "name": "stderr",
     "output_type": "stream",
     "text": [
      "100%|███████████████████████████████████████████████████████████████████████████| 3986/3986 [00:00<00:00, 26567.28it/s]\n"
     ]
    }
   ],
   "source": [
    "it_train_data = []\n",
    "\n",
    "for i in tqdm(range(len(df_it))):\n",
    "    it_train_data.append((df_it.iloc[i, 0], df_it.iloc[i, 1]))"
   ]
  },
  {
   "cell_type": "code",
   "execution_count": 22,
   "id": "256b25f0",
   "metadata": {},
   "outputs": [],
   "source": [
    "def make_it_docs(data):\n",
    "    docs = []\n",
    "    for doc, label in nlp.pipe(data, as_tuples = True):\n",
    "        if label == 0:\n",
    "            doc.cats['non-IT'] = 1\n",
    "        else:\n",
    "            doc.cats['IT'] = 1\n",
    "        docs.append(doc)\n",
    "    return (docs)"
   ]
  },
  {
   "cell_type": "code",
   "execution_count": 23,
   "id": "e25a6205",
   "metadata": {},
   "outputs": [],
   "source": [
    "nlp = spacy.load('ru_core_news_sm')"
   ]
  },
  {
   "cell_type": "code",
   "execution_count": 24,
   "id": "aa3715f5",
   "metadata": {
    "scrolled": true
   },
   "outputs": [
    {
     "data": {
      "application/javascript": [
       "\n",
       "        if (window._pyforest_update_imports_cell) { window._pyforest_update_imports_cell('import numpy as np'); }\n",
       "    "
      ],
      "text/plain": [
       "<IPython.core.display.Javascript object>"
      ]
     },
     "metadata": {},
     "output_type": "display_data"
    },
    {
     "data": {
      "text/plain": [
       "3189"
      ]
     },
     "execution_count": 24,
     "metadata": {},
     "output_type": "execute_result"
    }
   ],
   "source": [
    "num_texts = int(np.round(len(df_it)*0.8))\n",
    "num_texts"
   ]
  },
  {
   "cell_type": "code",
   "execution_count": 25,
   "id": "2eccfb21",
   "metadata": {},
   "outputs": [],
   "source": [
    "train_docs = make_docs(random.choices(vac_train_data, k=num_texts))\n",
    "doc_bin = DocBin(docs=train_docs)\n",
    "doc_bin.to_disk(\"./it_classifier/train.spacy\")\n",
    "\n",
    "valid_docs = make_docs(random.choices(vac_train_data, k=num_texts))\n",
    "doc_bin = DocBin(docs=valid_docs)\n",
    "doc_bin.to_disk(\"./it_classifier/valid.spacy\")"
   ]
  },
  {
   "cell_type": "code",
   "execution_count": 26,
   "id": "e3debb47",
   "metadata": {},
   "outputs": [
    {
     "name": "stdout",
     "output_type": "stream",
     "text": [
      "[+] Auto-filled config with all values\n"
     ]
    },
    {
     "name": "stderr",
     "output_type": "stream",
     "text": [
      "2021-07-10 22:43:39.790486: W tensorflow/stream_executor/platform/default/dso_loader.cc:64] Could not load dynamic library 'cudart64_110.dll'; dlerror: cudart64_110.dll not found\n",
      "2021-07-10 22:43:39.790760: I tensorflow/stream_executor/cuda/cudart_stub.cc:29] Ignore above cudart dlerror if you do not have a GPU set up on your machine.\n"
     ]
    },
    {
     "name": "stdout",
     "output_type": "stream",
     "text": [
      "[+] Saved config\n",
      "it_config.cfg\n",
      "You can now add your data and train your pipeline:\n",
      "python -m spacy train it_config.cfg --paths.train ./train.spacy --paths.dev ./dev.spacy\n"
     ]
    }
   ],
   "source": [
    "!python -m spacy init fill-config ./it_base_config.cfg ./it_config.cfg"
   ]
  },
  {
   "cell_type": "code",
   "execution_count": 27,
   "id": "9a41c31f",
   "metadata": {
    "scrolled": true
   },
   "outputs": [
    {
     "name": "stdout",
     "output_type": "stream",
     "text": [
      "[i] Using CPU\n",
      "\u001b[1m\n",
      "=========================== Initializing pipeline ===========================\u001b[0m\n",
      "[+] Initialized pipeline\n",
      "\u001b[1m\n",
      "============================= Training pipeline =============================\u001b[0m\n",
      "[i] Pipeline: ['tok2vec', 'textcat']\n",
      "[i] Initial learn rate: 0.001\n",
      "E    #       LOSS TOK2VEC  LOSS TEXTCAT  CATS_SCORE  SCORE \n",
      "---  ------  ------------  ------------  ----------  ------\n",
      "[!] Aborting and saving the final best model. Encountered exception:\n",
      "MemoryError((126993, 96), dtype('int32'))\n"
     ]
    },
    {
     "name": "stderr",
     "output_type": "stream",
     "text": [
      "2021-07-10 22:43:42.754705: W tensorflow/stream_executor/platform/default/dso_loader.cc:64] Could not load dynamic library 'cudart64_110.dll'; dlerror: cudart64_110.dll not found\n",
      "2021-07-10 22:43:42.754880: I tensorflow/stream_executor/cuda/cudart_stub.cc:29] Ignore above cudart dlerror if you do not have a GPU set up on your machine.\n",
      "[2021-07-10 22:43:44,761] [INFO] Set up nlp object from config\n",
      "[2021-07-10 22:43:44,767] [INFO] Pipeline: ['tok2vec', 'textcat']\n",
      "[2021-07-10 22:43:44,770] [INFO] Created vocabulary\n",
      "[2021-07-10 22:43:44,770] [INFO] Finished initializing nlp object\n",
      "[2021-07-10 22:43:53,651] [INFO] Initialized pipeline components: ['tok2vec', 'textcat']\n",
      "Traceback (most recent call last):\n",
      "  File \"D:\\Python\\Python39\\lib\\runpy.py\", line 197, in _run_module_as_main\n",
      "    return _run_code(code, main_globals, None,\n",
      "  File \"D:\\Python\\Python39\\lib\\runpy.py\", line 87, in _run_code\n",
      "    exec(code, run_globals)\n",
      "  File \"D:\\Python\\Python39\\lib\\site-packages\\spacy\\__main__.py\", line 4, in <module>\n",
      "    setup_cli()\n",
      "  File \"D:\\Python\\Python39\\lib\\site-packages\\spacy\\cli\\_util.py\", line 69, in setup_cli\n",
      "    command(prog_name=COMMAND)\n",
      "  File \"D:\\Python\\Python39\\lib\\site-packages\\click\\core.py\", line 829, in __call__\n",
      "    return self.main(*args, **kwargs)\n",
      "  File \"D:\\Python\\Python39\\lib\\site-packages\\click\\core.py\", line 782, in main\n",
      "    rv = self.invoke(ctx)\n",
      "  File \"D:\\Python\\Python39\\lib\\site-packages\\click\\core.py\", line 1259, in invoke\n",
      "    return _process_result(sub_ctx.command.invoke(sub_ctx))\n",
      "  File \"D:\\Python\\Python39\\lib\\site-packages\\click\\core.py\", line 1066, in invoke\n",
      "    return ctx.invoke(self.callback, **ctx.params)\n",
      "  File \"D:\\Python\\Python39\\lib\\site-packages\\click\\core.py\", line 610, in invoke\n",
      "    return callback(*args, **kwargs)\n",
      "  File \"D:\\Python\\Python39\\lib\\site-packages\\typer\\main.py\", line 497, in wrapper\n",
      "    return callback(**use_params)  # type: ignore\n",
      "  File \"D:\\Python\\Python39\\lib\\site-packages\\spacy\\cli\\train.py\", line 59, in train_cli\n",
      "    train(nlp, output_path, use_gpu=use_gpu, stdout=sys.stdout, stderr=sys.stderr)\n",
      "  File \"D:\\Python\\Python39\\lib\\site-packages\\spacy\\training\\loop.py\", line 115, in train\n",
      "    raise e\n",
      "  File \"D:\\Python\\Python39\\lib\\site-packages\\spacy\\training\\loop.py\", line 98, in train\n",
      "    for batch, info, is_best_checkpoint in training_step_iterator:\n",
      "  File \"D:\\Python\\Python39\\lib\\site-packages\\spacy\\training\\loop.py\", line 213, in train_while_improving\n",
      "    score, other_scores = evaluate()\n",
      "  File \"D:\\Python\\Python39\\lib\\site-packages\\spacy\\training\\loop.py\", line 268, in evaluate\n",
      "    scores = nlp.evaluate(dev_corpus(nlp))\n",
      "  File \"D:\\Python\\Python39\\lib\\site-packages\\spacy\\language.py\", line 1355, in evaluate\n",
      "    for doc, eg in zip(\n",
      "  File \"D:\\Python\\Python39\\lib\\site-packages\\spacy\\util.py\", line 1484, in _pipe\n",
      "    yield from proc.pipe(docs, **kwargs)\n",
      "  File \"spacy\\pipeline\\trainable_pipe.pyx\", line 79, in pipe\n",
      "  File \"D:\\Python\\Python39\\lib\\site-packages\\spacy\\util.py\", line 1503, in raise_error\n",
      "    raise e\n",
      "  File \"spacy\\pipeline\\trainable_pipe.pyx\", line 75, in spacy.pipeline.trainable_pipe.TrainablePipe.pipe\n",
      "  File \"D:\\Python\\Python39\\lib\\site-packages\\spacy\\pipeline\\tok2vec.py\", line 121, in predict\n",
      "    tokvecs = self.model.predict(docs)\n",
      "  File \"D:\\Python\\Python39\\lib\\site-packages\\thinc\\model.py\", line 312, in predict\n",
      "    return self._func(self, X, is_train=False)[0]\n",
      "  File \"D:\\Python\\Python39\\lib\\site-packages\\thinc\\layers\\chain.py\", line 54, in forward\n",
      "    Y, inc_layer_grad = layer(X, is_train=is_train)\n",
      "  File \"D:\\Python\\Python39\\lib\\site-packages\\thinc\\model.py\", line 288, in __call__\n",
      "    return self._func(self, X, is_train=is_train)\n",
      "  File \"D:\\Python\\Python39\\lib\\site-packages\\thinc\\layers\\with_array.py\", line 40, in forward\n",
      "    return _list_forward(cast(Model[List2d, List2d], model), Xseq, is_train)\n",
      "  File \"D:\\Python\\Python39\\lib\\site-packages\\thinc\\layers\\with_array.py\", line 76, in _list_forward\n",
      "    Yf, get_dXf = layer(Xf, is_train)\n",
      "  File \"D:\\Python\\Python39\\lib\\site-packages\\thinc\\model.py\", line 288, in __call__\n",
      "    return self._func(self, X, is_train=is_train)\n",
      "  File \"D:\\Python\\Python39\\lib\\site-packages\\thinc\\layers\\chain.py\", line 54, in forward\n",
      "    Y, inc_layer_grad = layer(X, is_train=is_train)\n",
      "  File \"D:\\Python\\Python39\\lib\\site-packages\\thinc\\model.py\", line 288, in __call__\n",
      "    return self._func(self, X, is_train=is_train)\n",
      "  File \"D:\\Python\\Python39\\lib\\site-packages\\thinc\\layers\\residual.py\", line 40, in forward\n",
      "    Y, backprop_layer = model.layers[0](X, is_train)\n",
      "  File \"D:\\Python\\Python39\\lib\\site-packages\\thinc\\model.py\", line 288, in __call__\n",
      "    return self._func(self, X, is_train=is_train)\n",
      "  File \"D:\\Python\\Python39\\lib\\site-packages\\thinc\\layers\\chain.py\", line 54, in forward\n",
      "    Y, inc_layer_grad = layer(X, is_train=is_train)\n",
      "  File \"D:\\Python\\Python39\\lib\\site-packages\\thinc\\model.py\", line 288, in __call__\n",
      "    return self._func(self, X, is_train=is_train)\n",
      "  File \"D:\\Python\\Python39\\lib\\site-packages\\thinc\\layers\\chain.py\", line 54, in forward\n",
      "    Y, inc_layer_grad = layer(X, is_train=is_train)\n",
      "  File \"D:\\Python\\Python39\\lib\\site-packages\\thinc\\model.py\", line 288, in __call__\n",
      "    return self._func(self, X, is_train=is_train)\n",
      "  File \"D:\\Python\\Python39\\lib\\site-packages\\thinc\\layers\\chain.py\", line 54, in forward\n",
      "    Y, inc_layer_grad = layer(X, is_train=is_train)\n",
      "  File \"D:\\Python\\Python39\\lib\\site-packages\\thinc\\model.py\", line 288, in __call__\n",
      "    return self._func(self, X, is_train=is_train)\n",
      "  File \"D:\\Python\\Python39\\lib\\site-packages\\thinc\\layers\\maxout.py\", line 52, in forward\n",
      "    best, which = model.ops.maxout(Z)\n",
      "  File \"thinc\\backends\\numpy_ops.pyx\", line 149, in thinc.backends.numpy_ops.NumpyOps.maxout\n",
      "numpy.core._exceptions.MemoryError: Unable to allocate 46.5 MiB for an array with shape (126993, 96) and data type int32\n"
     ]
    }
   ],
   "source": [
    "!python -m spacy train it_config.cfg --output ./it_output"
   ]
  },
  {
   "cell_type": "markdown",
   "id": "f060baf2",
   "metadata": {},
   "source": [
    "#### Data labelling for IT filtering"
   ]
  },
  {
   "cell_type": "code",
   "execution_count": 28,
   "id": "598cc6fd",
   "metadata": {},
   "outputs": [],
   "source": [
    "df_it = df[df['vacancy']!=0]"
   ]
  },
  {
   "cell_type": "code",
   "execution_count": 29,
   "id": "1f04d76f",
   "metadata": {
    "scrolled": false
   },
   "outputs": [
    {
     "data": {
      "text/html": [
       "<div>\n",
       "<style scoped>\n",
       "    .dataframe tbody tr th:only-of-type {\n",
       "        vertical-align: middle;\n",
       "    }\n",
       "\n",
       "    .dataframe tbody tr th {\n",
       "        vertical-align: top;\n",
       "    }\n",
       "\n",
       "    .dataframe thead th {\n",
       "        text-align: right;\n",
       "    }\n",
       "</style>\n",
       "<table border=\"1\" class=\"dataframe\">\n",
       "  <thead>\n",
       "    <tr style=\"text-align: right;\">\n",
       "      <th></th>\n",
       "      <th>data</th>\n",
       "      <th>label</th>\n",
       "      <th>vacancy</th>\n",
       "      <th>IT</th>\n",
       "    </tr>\n",
       "  </thead>\n",
       "  <tbody>\n",
       "    <tr>\n",
       "      <th>2294</th>\n",
       "      <td>• Python Developer в Andersen, Пенза</td>\n",
       "      <td>Python-разработчик</td>\n",
       "      <td>1</td>\n",
       "      <td>IT</td>\n",
       "    </tr>\n",
       "    <tr>\n",
       "      <th>28</th>\n",
       "      <td>#vacancy #kharkiv #recruiter #fulltime #ваканс...</td>\n",
       "      <td>IT-рекрутер</td>\n",
       "      <td>1</td>\n",
       "      <td>IT</td>\n",
       "    </tr>\n",
       "    <tr>\n",
       "      <th>1844</th>\n",
       "      <td>• Middle/ Senior Python-разработчик системы уп...</td>\n",
       "      <td>Python-разработчик</td>\n",
       "      <td>1</td>\n",
       "      <td>IT</td>\n",
       "    </tr>\n",
       "    <tr>\n",
       "      <th>3151</th>\n",
       "      <td>Компания: Otus расширяет команду курсов и ищет...</td>\n",
       "      <td>non-IT</td>\n",
       "      <td>1</td>\n",
       "      <td>non-IT</td>\n",
       "    </tr>\n",
       "    <tr>\n",
       "      <th>1880</th>\n",
       "      <td>Junior Golang Developer\\r\\nв Sports.ru — ведущ...</td>\n",
       "      <td>Golang-разработчик</td>\n",
       "      <td>1</td>\n",
       "      <td>IT</td>\n",
       "    </tr>\n",
       "  </tbody>\n",
       "</table>\n",
       "</div>"
      ],
      "text/plain": [
       "                                                   data               label  \\\n",
       "2294               • Python Developer в Andersen, Пенза  Python-разработчик   \n",
       "28    #vacancy #kharkiv #recruiter #fulltime #ваканс...         IT-рекрутер   \n",
       "1844  • Middle/ Senior Python-разработчик системы уп...  Python-разработчик   \n",
       "3151  Компания: Otus расширяет команду курсов и ищет...              non-IT   \n",
       "1880  Junior Golang Developer\\r\\nв Sports.ru — ведущ...  Golang-разработчик   \n",
       "\n",
       "      vacancy      IT  \n",
       "2294        1      IT  \n",
       "28          1      IT  \n",
       "1844        1      IT  \n",
       "3151        1  non-IT  \n",
       "1880        1      IT  "
      ]
     },
     "execution_count": 29,
     "metadata": {},
     "output_type": "execute_result"
    }
   ],
   "source": [
    "df_it.sample(5)"
   ]
  },
  {
   "cell_type": "code",
   "execution_count": 30,
   "id": "51a47c5a",
   "metadata": {},
   "outputs": [],
   "source": [
    "df_it = df_it[['data', 'IT']]"
   ]
  },
  {
   "cell_type": "code",
   "execution_count": 31,
   "id": "848eb463",
   "metadata": {},
   "outputs": [],
   "source": [
    "df_it_short = df_it.sample(1000)"
   ]
  },
  {
   "cell_type": "code",
   "execution_count": 32,
   "id": "2e1f2aff",
   "metadata": {},
   "outputs": [],
   "source": [
    "from IPython.display import clear_output"
   ]
  },
  {
   "cell_type": "code",
   "execution_count": 33,
   "id": "51ef01a9",
   "metadata": {},
   "outputs": [],
   "source": [
    "### 1 if IT, 0 if not\n",
    "\n",
    "for i in range(len(df_it_short)):\n",
    "    print(len(df_it_short)-i, 'left')\n",
    "    df_it_shor1t.iloc[i, 1] = input(df_it_short.iloc[i, 0]+'\\n')\n",
    "    clear_output()\n",
    "    \n",
    "df_it_short2 = df_it_short"
   ]
  },
  {
   "cell_type": "code",
   "execution_count": 35,
   "id": "ceb6a205",
   "metadata": {},
   "outputs": [],
   "source": [
    "df_it_short2.to_csv('df_it_short2.csv',index=False)"
   ]
  },
  {
   "cell_type": "markdown",
   "id": "619b4b18",
   "metadata": {},
   "source": [
    "###### 'IT' model training after relabelling"
   ]
  },
  {
   "cell_type": "code",
   "execution_count": 129,
   "id": "30a1125e",
   "metadata": {
    "scrolled": true
   },
   "outputs": [
    {
     "data": {
      "text/plain": [
       "1    776\n",
       "0    223\n",
       "Name: IT, dtype: int64"
      ]
     },
     "execution_count": 129,
     "metadata": {},
     "output_type": "execute_result"
    }
   ],
   "source": [
    "\n",
    "df_it_short['IT'].value_counts()"
   ]
  },
  {
   "cell_type": "code",
   "execution_count": 130,
   "id": "da843ff4",
   "metadata": {},
   "outputs": [],
   "source": [
    "df_it_short = df_it_short[df_it_short['IT'] != '']"
   ]
  },
  {
   "cell_type": "code",
   "execution_count": 131,
   "id": "f8e72b41",
   "metadata": {},
   "outputs": [],
   "source": [
    "df_it_short_train = pd.concat([df_it_short[df_it_short['IT'] == \"0\"],\n",
    "                              df_it_short[df_it_short['IT'] == \"1\"].sample(223)])"
   ]
  },
  {
   "cell_type": "code",
   "execution_count": 132,
   "id": "e14fa2de",
   "metadata": {},
   "outputs": [],
   "source": [
    "df_it_short_train = df_it_short_train.sample(frac=1).reset_index(drop=True)"
   ]
  },
  {
   "cell_type": "code",
   "execution_count": 133,
   "id": "aa72e229",
   "metadata": {},
   "outputs": [
    {
     "name": "stderr",
     "output_type": "stream",
     "text": [
      "100%|█████████████████████████████████████████████████████████████████████████████| 446/446 [00:00<00:00, 29727.46it/s]\n"
     ]
    }
   ],
   "source": [
    "it_train_data = []\n",
    "\n",
    "for i in tqdm(range(len(df_it_short_train))):\n",
    "    it_train_data.append((df_it_short_train.iloc[i, 0], df_it_short_train.iloc[i, 1]))"
   ]
  },
  {
   "cell_type": "code",
   "execution_count": 134,
   "id": "af188984",
   "metadata": {},
   "outputs": [],
   "source": [
    "def make_it_docs(data):\n",
    "    docs = []\n",
    "    for doc, label in nlp.pipe(data, as_tuples = True):\n",
    "        if label == \"0\":\n",
    "            doc.cats['non-IT'] = 1\n",
    "        else:\n",
    "            doc.cats['IT'] = 1\n",
    "        docs.append(doc)\n",
    "    return (docs)"
   ]
  },
  {
   "cell_type": "code",
   "execution_count": 135,
   "id": "039a1791",
   "metadata": {},
   "outputs": [],
   "source": [
    "nlp = spacy.load('ru_core_news_sm')"
   ]
  },
  {
   "cell_type": "code",
   "execution_count": 136,
   "id": "529f1308",
   "metadata": {},
   "outputs": [
    {
     "data": {
      "application/javascript": [
       "\n",
       "        if (window._pyforest_update_imports_cell) { window._pyforest_update_imports_cell('import numpy as np'); }\n",
       "    "
      ],
      "text/plain": [
       "<IPython.core.display.Javascript object>"
      ]
     },
     "metadata": {},
     "output_type": "display_data"
    },
    {
     "data": {
      "text/plain": [
       "357"
      ]
     },
     "execution_count": 136,
     "metadata": {},
     "output_type": "execute_result"
    }
   ],
   "source": [
    "num_texts = int(np.round(len(df_it_short_train)*0.8))\n",
    "num_texts"
   ]
  },
  {
   "cell_type": "code",
   "execution_count": 137,
   "id": "eb7d55d0",
   "metadata": {},
   "outputs": [],
   "source": [
    "train_docs = make_it_docs(it_train_data[:num_texts])\n",
    "doc_bin = DocBin(docs=train_docs)\n",
    "doc_bin.to_disk(\"./it_classifier/train.spacy\")\n",
    "\n",
    "valid_docs = make_it_docs(it_train_data[num_texts:])\n",
    "doc_bin = DocBin(docs=valid_docs)\n",
    "doc_bin.to_disk(\"./it_classifier/valid.spacy\")"
   ]
  },
  {
   "cell_type": "code",
   "execution_count": 138,
   "id": "2e7aa9fb",
   "metadata": {
    "scrolled": true
   },
   "outputs": [
    {
     "data": {
      "text/plain": [
       "357"
      ]
     },
     "execution_count": 138,
     "metadata": {},
     "output_type": "execute_result"
    }
   ],
   "source": [
    "len(it_train_data[:num_texts])"
   ]
  },
  {
   "cell_type": "code",
   "execution_count": 139,
   "id": "ea91e0b6",
   "metadata": {},
   "outputs": [
    {
     "data": {
      "text/plain": [
       "89"
      ]
     },
     "execution_count": 139,
     "metadata": {},
     "output_type": "execute_result"
    }
   ],
   "source": [
    "len(it_train_data[num_texts:])"
   ]
  },
  {
   "cell_type": "code",
   "execution_count": 140,
   "id": "b0b0ed56",
   "metadata": {},
   "outputs": [
    {
     "name": "stdout",
     "output_type": "stream",
     "text": [
      "[+] Auto-filled config with all values\n",
      "[+] Saved config\n",
      "it_config.cfg\n",
      "You can now add your data and train your pipeline:\n",
      "python -m spacy train it_config.cfg --paths.train ./train.spacy --paths.dev ./dev.spacy\n"
     ]
    },
    {
     "name": "stderr",
     "output_type": "stream",
     "text": [
      "2021-07-11 17:34:26.990675: W tensorflow/stream_executor/platform/default/dso_loader.cc:64] Could not load dynamic library 'cudart64_110.dll'; dlerror: cudart64_110.dll not found\n",
      "2021-07-11 17:34:26.990881: I tensorflow/stream_executor/cuda/cudart_stub.cc:29] Ignore above cudart dlerror if you do not have a GPU set up on your machine.\n"
     ]
    }
   ],
   "source": [
    "!python -m spacy init fill-config ./it_base_config.cfg ./it_config.cfg"
   ]
  },
  {
   "cell_type": "code",
   "execution_count": 141,
   "id": "d8a57b34",
   "metadata": {
    "scrolled": true
   },
   "outputs": [
    {
     "name": "stderr",
     "output_type": "stream",
     "text": [
      "2021-07-11 17:34:30.303405: W tensorflow/stream_executor/platform/default/dso_loader.cc:64] Could not load dynamic library 'cudart64_110.dll'; dlerror: cudart64_110.dll not found\n",
      "2021-07-11 17:34:30.303638: I tensorflow/stream_executor/cuda/cudart_stub.cc:29] Ignore above cudart dlerror if you do not have a GPU set up on your machine.\n",
      "[2021-07-11 17:34:32,312] [INFO] Set up nlp object from config\n",
      "[2021-07-11 17:34:32,318] [INFO] Pipeline: ['tok2vec', 'textcat']\n",
      "[2021-07-11 17:34:32,320] [INFO] Created vocabulary\n",
      "[2021-07-11 17:34:32,320] [INFO] Finished initializing nlp object\n",
      "[2021-07-11 17:34:33,808] [INFO] Initialized pipeline components: ['tok2vec', 'textcat']\n"
     ]
    },
    {
     "name": "stdout",
     "output_type": "stream",
     "text": [
      "[i] Using CPU\n",
      "\u001b[1m\n",
      "=========================== Initializing pipeline ===========================\u001b[0m\n",
      "[+] Initialized pipeline\n",
      "\u001b[1m\n",
      "============================= Training pipeline =============================\u001b[0m\n",
      "[i] Pipeline: ['tok2vec', 'textcat']\n",
      "[i] Initial learn rate: 0.001\n",
      "E    #       LOSS TOK2VEC  LOSS TEXTCAT  CATS_SCORE  SCORE \n",
      "---  ------  ------------  ------------  ----------  ------\n",
      "  0       0          0.00          0.25       35.97    0.36\n",
      "  0     200          0.00         20.15       87.11    0.87\n",
      "  1     400          0.00          8.35       94.31    0.94\n",
      "  2     600          0.00          1.74       94.24    0.94\n",
      "  3     800          0.00          0.65       93.19    0.93\n",
      "  4    1000          0.00          0.32       94.31    0.94\n",
      "  4    1200          0.00          0.25       94.31    0.94\n",
      "  5    1400          0.00          0.15       94.19    0.94\n",
      "  7    1600          0.00          0.12       93.06    0.93\n",
      "  8    1800          0.00          0.10       94.24    0.94\n",
      " 10    2000          0.00          0.05       94.24    0.94\n",
      "[+] Saved pipeline to output directory\n",
      "it_output\\model-last\n"
     ]
    }
   ],
   "source": [
    "!python -m spacy train it_config.cfg --output ./it_output"
   ]
  },
  {
   "cell_type": "code",
   "execution_count": 142,
   "id": "f5979b64",
   "metadata": {},
   "outputs": [],
   "source": [
    "it_nlp = spacy.load('it_output\\model-last')"
   ]
  },
  {
   "cell_type": "code",
   "execution_count": 145,
   "id": "f9a03d0b",
   "metadata": {
    "scrolled": true
   },
   "outputs": [],
   "source": [
    "df_it_check = df_it.drop(columns=['IT']).sample(50).reset_index(drop=True)"
   ]
  },
  {
   "cell_type": "code",
   "execution_count": 146,
   "id": "b582b8e6",
   "metadata": {},
   "outputs": [
    {
     "name": "stdout",
     "output_type": "stream",
     "text": [
      "Консультант-аналитик 1\r\n",
      "Москва\r\n",
      "З/пл до 160тр гросс\r\n",
      "Вакансия открыта в немецкой консалтинговой компании\r\n",
      "\r\n",
      "Обязанности:\r\n",
      "Консультации по оперативному учету в конфигурациях 1С\r\n",
      "Настройка и консультации по работе с обменом данными между базами 1С и внешними источниками данных (в том числе EDI/ЭДО).\r\n",
      "Администрирование прав доступа пользователей.\r\n",
      "Тестирование нетиповых баз и доработок.\r\n",
      "Написание инструкций, проведение тренингов по работе с нетиповыми блоками в 1С.\r\n",
      "\r\n",
      "Требования:\r\n",
      "Знание конфигураций 1С: ERP, KA, Розница, УТ 11, БП КОРП, ЗУП 3.1\r\n",
      "Опыт работы с нетиповыми конфигурациями 1С\r\n",
      "Свободное владение: SQL, EDI, MS Office\r\n",
      "Наличие сертификатов по 1С (Профессионал, Специалист-консультант) – приветствуется\r\n",
      "Опыт работы с СКД - как преимущество\r\n",
      "Английский язык - как плюс\r\n",
      "\r\n",
      "Условия:\r\n",
      "Офис в 5 мин. пешком от ст. м. Полянка\r\n",
      "Возможность профессионального и карьерного роста\r\n",
      "График работы: Пн-Пт, гибкое время начала рабочего дня (с 8:00 до 10:00)\r\n",
      "100% белая заработная плата, трудоустройство по ТК РФ\r\n",
      "ДМС\r\n",
      "Использование в работе иностранного языка, корпоративные курсы иностранных языков\r\n",
      "Скидка на обеды в офисном кафе\r\n",
      "Корпоративное обучение\r\n",
      "\r\n",
      "\r\n",
      "Контактное лицо:\r\n",
      "@hr_irina_smirnova\r\n",
      "\r\n",
      "Вакансия на НН:\r\n",
      "https://hh.ru/vacancy/39452541\n"
     ]
    },
    {
     "data": {
      "application/javascript": [
       "\n",
       "        if (window._pyforest_update_imports_cell) { window._pyforest_update_imports_cell('import numpy as np'); }\n",
       "    "
      ],
      "text/plain": [
       "<IPython.core.display.Javascript object>"
      ]
     },
     "metadata": {},
     "output_type": "display_data"
    },
    {
     "name": "stdout",
     "output_type": "stream",
     "text": [
      "1.0\n",
      "\n",
      "Product Owner\n",
      "в Сбербанк.\n",
      "От 150К, Москва.\n",
      "Предстоит работать над развитием сайта для акционеров и инвесторов.\n",
      "Описание вакансии https://is.gd/Ipp8Rk\n",
      "Откликаться на GeekJob.ru\n",
      "#project #product #вакансия #москва\n"
     ]
    },
    {
     "data": {
      "application/javascript": [
       "\n",
       "        if (window._pyforest_update_imports_cell) { window._pyforest_update_imports_cell('import numpy as np'); }\n",
       "    "
      ],
      "text/plain": [
       "<IPython.core.display.Javascript object>"
      ]
     },
     "metadata": {},
     "output_type": "display_data"
    },
    {
     "name": "stdout",
     "output_type": "stream",
     "text": [
      "1.0\n",
      "\n",
      "#краснодар #1С #работа\n",
      "\n",
      "Программист 1С \n",
      "☀️ Краснодар \n",
      "\n",
      "70 000 – 120 000 (оклад + бонусы), цифры обсуждаемы \n",
      "\n",
      "✔️Франчайзи «ЦА Славер» \n",
      "У нас есть обширный опыт и компетенции, а также ряд крупных проектов. Нам важен не только фактический опыт в подобной должности, но и стремление, поэтому готовы рассматривать кандидатов разной квалификации.\n",
      "\n",
      " ✔️Требования: опыт разработки в 1С от 1го года.\n",
      "\n",
      " ✔️Ключевые задачи: разработка по техническому заданию, сдача работ заказчику, контроль сроков\n",
      " 🔴Открываем позицию в связи с увеличением количества проектов, сейчас есть ряд производственных компаний, с которыми мы начали работу, но «рук» не хватает:)\n",
      "\n",
      "https://krasnodar.hh.ru/vacancy/39477708\n",
      "\n",
      "🖊 imgemedzhieva@sla-v.ru\n",
      "@landinka\n"
     ]
    },
    {
     "data": {
      "application/javascript": [
       "\n",
       "        if (window._pyforest_update_imports_cell) { window._pyforest_update_imports_cell('import numpy as np'); }\n",
       "    "
      ],
      "text/plain": [
       "<IPython.core.display.Javascript object>"
      ]
     },
     "metadata": {},
     "output_type": "display_data"
    },
    {
     "name": "stdout",
     "output_type": "stream",
     "text": [
      "1.0\n",
      "\n",
      "Project Manager\n",
      "в VCV.ru — сервис видеоинтервью. Один из самых быстрорастущих HRtech-проектов на российском рынке, открывший офис в Кремниевой Долине в 2017 году.\n",
      "Москва, возможна удалённая работа.\n",
      "Описание вакансии https://is.gd/omBq8A\n",
      "Ищет Александра Левицкая, её пост https://is.gd/rqNN3L\n",
      "#project #product #вакансия #москва #remotework\n"
     ]
    },
    {
     "data": {
      "application/javascript": [
       "\n",
       "        if (window._pyforest_update_imports_cell) { window._pyforest_update_imports_cell('import numpy as np'); }\n",
       "    "
      ],
      "text/plain": [
       "<IPython.core.display.Javascript object>"
      ]
     },
     "metadata": {},
     "output_type": "display_data"
    },
    {
     "name": "stdout",
     "output_type": "stream",
     "text": [
      "0.0\n",
      "\n",
      "▪️ ▫️ ▪️\n",
      "\n",
      "Факультет компьютерных наук НИУ ВШЭ ищет менеджера по административно-финансовым вопросам. Нужно будет много работать с людьми, документами и корпоративными системами. Работа рутинная и очень стабильная, а команда классная.\n",
      "\n",
      "Детали: http://bit.ly/fmanager_dc \n",
      "\n",
      "Контакт: резюме с сопроводительным письмом присылайте Ольге Подольской opodolskaya@hse.ru\n"
     ]
    },
    {
     "data": {
      "application/javascript": [
       "\n",
       "        if (window._pyforest_update_imports_cell) { window._pyforest_update_imports_cell('import numpy as np'); }\n",
       "    "
      ],
      "text/plain": [
       "<IPython.core.display.Javascript object>"
      ]
     },
     "metadata": {},
     "output_type": "display_data"
    },
    {
     "name": "stdout",
     "output_type": "stream",
     "text": [
      "0.0\n",
      "\n",
      "#vacancy #fullTime #remote #office #вакансия #javascript #typescript  #офис #spb \n",
      "\n",
      "🔹 Frontend developer middle/senior (удаленно или в офисе)\n",
      "\n",
      "Название компании: Blogman\n",
      "Зарплата: 80-250 т.р.\n",
      "Тип занятости: полная, офис/удаленно\n",
      "Местоположение: офис в Санкт-Петербурге или удаленка по России\n",
      "Требуемый опыт: от 1,5 лет\n",
      "Навыки: TypeScript, JavaScript, HTML/CSS\n",
      "Контакты: @alinablogman / job.blogman.com\n",
      "\n",
      "Описание вакансии: Основной стек технологий — TypeScript, JavaScript, HTML/CSS. Сейчас мы разрабатываем бизнес-функционал приложения и будем рады новому специалисту в нашей команде, который вольется в проект и мы вместе будем делать frontend с нативным кодом и отзывчивым интерфейсом.\n",
      "\n",
      "🔹Мы ожидаем, что у вас есть:\n",
      "— Опыт коммерческой разработки от 1,5 лет\n",
      "— Хорошее знание JavaScript, TypeScript, HTML/CSS;\n",
      "\n",
      "🔹Рады предложить:\n",
      "— Возможность работать удаленно;\n",
      "— Желаемый оклад по результатам собеседования;\n",
      "— Cистему роста зарплаты каждые 6 месяцев\n",
      "\n",
      "Буду рада ответить на ваши вопросы 🤗\n"
     ]
    },
    {
     "data": {
      "application/javascript": [
       "\n",
       "        if (window._pyforest_update_imports_cell) { window._pyforest_update_imports_cell('import numpy as np'); }\n",
       "    "
      ],
      "text/plain": [
       "<IPython.core.display.Javascript object>"
      ]
     },
     "metadata": {},
     "output_type": "display_data"
    },
    {
     "name": "stdout",
     "output_type": "stream",
     "text": [
      "1.0\n",
      "\n",
      "Digital-маркетолог в команду программы «Учитель для России»\n",
      "\n",
      "teletype.in/@yojob/BJD0DU5KB\n"
     ]
    },
    {
     "data": {
      "application/javascript": [
       "\n",
       "        if (window._pyforest_update_imports_cell) { window._pyforest_update_imports_cell('import numpy as np'); }\n",
       "    "
      ],
      "text/plain": [
       "<IPython.core.display.Javascript object>"
      ]
     },
     "metadata": {},
     "output_type": "display_data"
    },
    {
     "name": "stdout",
     "output_type": "stream",
     "text": [
      "0.0\n",
      "\n",
      "Контент-продюсер\n",
      "в Skyeng — крупнейшую онлайн-школу английского языка.\n",
      "Москва или удалённая работа.\n",
      "Ищет Михаил Свердлов, его пост https://is.gd/RPxA2Z\n",
      "#content #producer #вакансия #москва #remotework\n",
      "\n",
      "Больше вакансий для продюсеров:\n",
      "Telegram @forproducer\n",
      "Facebook: https://is.gd/lmkVOP\n"
     ]
    },
    {
     "data": {
      "application/javascript": [
       "\n",
       "        if (window._pyforest_update_imports_cell) { window._pyforest_update_imports_cell('import numpy as np'); }\n",
       "    "
      ],
      "text/plain": [
       "<IPython.core.display.Javascript object>"
      ]
     },
     "metadata": {},
     "output_type": "display_data"
    },
    {
     "name": "stdout",
     "output_type": "stream",
     "text": [
      "0.0\n",
      "\n",
      "Продюсер\n",
      "в Русские норм! — YouTube-канал о людях из России, которые добились успеха по всему миру. Проект бывшего шеф-редактор РБК и основательницы The Bell Елизаветы Осетинской.\n",
      "Ищет Елизавета Осетинская, её пост.\n",
      "\n",
      "Больше вакансий для продюсеров:\n",
      "Telegram @forproducer\n",
      "Facebook\n"
     ]
    },
    {
     "data": {
      "application/javascript": [
       "\n",
       "        if (window._pyforest_update_imports_cell) { window._pyforest_update_imports_cell('import numpy as np'); }\n",
       "    "
      ],
      "text/plain": [
       "<IPython.core.display.Javascript object>"
      ]
     },
     "metadata": {},
     "output_type": "display_data"
    },
    {
     "name": "stdout",
     "output_type": "stream",
     "text": [
      "0.0\n",
      "\n",
      "#Битрикс #bitrix #remote #удаленка #php7 #Екатеринбург #middle #senior #junior #parttime #fulltime \n",
      "\n",
      "Ищем нескольких программистов в нашу супер-команду. Она, кстати, распределенная.\n",
      "Айтигро, itgro.ru \n",
      "Разрабатываем и поддерживаем сложные и большие клиентские сайты, ИМ, порталы и пр.\n",
      "Удаленная работа. На полный день, но возможно совмещение.\n",
      "\n",
      "Что нужно будет делать:\n",
      "- разрабатывать и сопровождать средние и крупные проекты на 1С-Bitrix\n",
      "- помогать в технической проработке проектов менеджеру\n",
      "- участвовать в развитии уже созданных в компании проектов.\n",
      "\n",
      "Что мы предлагаем:\n",
      "\n",
      "- официальное трудоустройство в штат или работу по договору подряда\n",
      "\n",
      "- большая, зрелая команда, где каждый занимается своим делом\n",
      "\n",
      "- поддержка и помощь коллег, возможность постоянно прокачиваться на сложных проектах\n",
      "\n",
      "- возможность влиять на процессы разработки и бизнес-процессы в компании, у нас - демократия :)\n",
      "\n",
      "- зарплата - мы готовы рассматривать ожидания кандидатов. Для мидлов - 70-80000, для сеньоров - до 100000 руб. Но мы готовы принимать и начинающих специалистов.\n",
      "\n",
      "Чего мы ожидаем от тебя:\n",
      "\n",
      "- опыт реализации веб-проектов на 1С-Битрикс\n",
      "- знание архитектуры 1С-Битрикс, D7, ORM\n",
      "- хорошее знание php 7\n",
      "- базовые знания javascript\n",
      "- навыки работы с git.\n"
     ]
    },
    {
     "data": {
      "application/javascript": [
       "\n",
       "        if (window._pyforest_update_imports_cell) { window._pyforest_update_imports_cell('import numpy as np'); }\n",
       "    "
      ],
      "text/plain": [
       "<IPython.core.display.Javascript object>"
      ]
     },
     "metadata": {},
     "output_type": "display_data"
    },
    {
     "name": "stdout",
     "output_type": "stream",
     "text": [
      "1.0\n",
      "\n",
      "#frontend #React #Middle #Senior #вакансия\n",
      "\n",
      "Совкомбанк - один из крупнейших частных банков России, с огромной экспертизой в ИТ. И сейчас на несколько интересных highload-проектов ищем коллег в команду frontend разработки! \n",
      " \n",
      "Формат работы: микс - штат + частичная удаленка\n",
      "Город:  Приоритет - Казань, Воронеж, Саратов, Новосибирск, Воронеж, Москва\n",
      "Занятость: полная\n",
      "Зарплатная вилка: от 120к до 240к\n",
      "\n",
      "Что нужно знать и уметь: \n",
      "🌟 Знание frontend-фреймворков и технологий (react+redux, webpack, npm, less, lodash, es6);\n",
      "🌟 Опыт работы с Git;\n",
      "🌟 Опыт написания SPA приложений; \n",
      "🌟 Знание JavaScript (jQuery), HTML5, CSS3, Bootstrap, XML, JSON;\n",
      "🌟 Знание протокола HTTP;\n",
      "🌟 Понимание принципов ООП, MVC;\n",
      "🌟 Представление об архитектуре веб-приложений;\n",
      "🌟 Умение разбираться в чужом коде;\n",
      "\n",
      "Будет плюсом: \n",
      "🌟 Опыт работы с графиками chartjs/d3js;\n",
      "🌟 Опыт разработки на nodejs/php\n",
      "🌟 Опыт работы с Docker;\n",
      "🌟 Знания об уязвимостях веб-приложений;\n",
      "🌟 Базовые навыки работы в *nix-системах;\n",
      "\n",
      "Чем нужно будет заниматься: \n",
      "🌟 Разработка крупных лизинговых проектов банка (порталы, посадочные страницы, клиентские приложения)\n",
      "🌟 Корпоративный портал \n",
      "🌟 “Халва” \n",
      "(проект можно будет выбрать по компетенциям и по интересу). Каждым продуктом нашего банка ежемесячно пользуется несколько миллионов человек, поэтому вы сможете принять участие в разработке действительно стоящего проекта 🔥\n",
      "\n",
      "Что мы предлагаем: \n",
      "🌟 Оформление по ТК РФ, стабильная работа в крупном федеральном банке,\n",
      "🌟 Новый, современный офис, комфортабельное рабочее место (г. Казань, ул. Спартаковская, д. 86),\n",
      "🌟 Профессиональная команда специалистов , авторитетные тимлиды,\n",
      "🌟 Атмосфера проф. развития, вдохновленная принципами Agile,\n",
      "🌟 Расширенный соц. пакет по программе софинансирования (ДМС, фитнес, изучение ин. языков на выбор, скидки на продукты банка и партнеров.),\n",
      "🌟 Нет дресс-кода, гибкое начало и завершение рабочего дня\n",
      "🌟 Корпоративы, мероприятия, обучения! \n",
      "\n",
      "Скорее присоединяйся 👇\n",
      " \n",
      "Контакты: \n",
      "@luckypony95 \n",
      "Алеся, IT HR \"Совкомбанк Технологии\"\n"
     ]
    },
    {
     "data": {
      "application/javascript": [
       "\n",
       "        if (window._pyforest_update_imports_cell) { window._pyforest_update_imports_cell('import numpy as np'); }\n",
       "    "
      ],
      "text/plain": [
       "<IPython.core.display.Javascript object>"
      ]
     },
     "metadata": {},
     "output_type": "display_data"
    },
    {
     "name": "stdout",
     "output_type": "stream",
     "text": [
      "1.0\n",
      "\n",
      "Приглашаем в нашу команду GOST Group Программиста 1С!\n",
      "\n",
      "Наша компания предоставляет полный спектр услуг в сфере IT: от аналитики до разработки прикладного ПО и комплексной автоматизации бизнеса.\n",
      "\n",
      "Мы создаем инновационные IT-продукты для современных людей в городской среде, обеспечивая защищенность и комфорт в будущем.\n",
      "\n",
      "Зона ответственности:\n",
      "•  Работа по заявкам Заказчика, полученным через ServiceDesk.\n",
      "•  Доработка 1С ERP по ТЗ: анализ ТЗ, обсуждение бизнес-процессов, поиск оптимального решения на разработку, оценка и планирование работ, самостоятельная реализация доработок.\n",
      "•  Написание отчетов, обработок. Доработка типовых и нетиповых конфигураций существующих баз.\n",
      "•  Контроль качества собственной разработки.\n",
      "•  Решение проблем, возникающих в ходе работы с информационными базами 1С.\n",
      "\n",
      "Необходимая квалификация:\n",
      "•  Опыт работы с конфигурацией на платформе 1C ERP.\n",
      "•  Опыт работы с 1С 8 (7.7 - как плюс).\n",
      "•  Опыт доработки 1С ERP по ТЗ.\n",
      "•  Опыт работы с управляемыми формами, навыки разработки сложных запросов.\n",
      "\n",
      "Со своей стороны мы гарантируем:\n",
      "•  Комфортабельный проектный офис на территории Заказчика (м. Белорусская).\n",
      "•  График работы по выбору (8.00-17.00, 9.00-18.00 или с 10.00-19.00).\n",
      "•  З/п до 150 000 руб. net (фиксированный оклад).\n",
      "•  Полное соблюдение условий ТК РФ.\n",
      "•  Возможность обучения и посещения профильных мероприятий.\n",
      "•  Через 6 месяцев с даты приема на работу подключение к корпоративной программе ДМС или компенсация фитнеса.\n",
      "•  Корпоративный спорт (футбольная, волейбольная команды; настольный теннис).\n",
      "\n",
      "@innayrsav  inna.savelyeva@gost-group.com\n"
     ]
    },
    {
     "data": {
      "application/javascript": [
       "\n",
       "        if (window._pyforest_update_imports_cell) { window._pyforest_update_imports_cell('import numpy as np'); }\n",
       "    "
      ],
      "text/plain": [
       "<IPython.core.display.Javascript object>"
      ]
     },
     "metadata": {},
     "output_type": "display_data"
    },
    {
     "name": "stdout",
     "output_type": "stream",
     "text": [
      "1.0\n",
      "\n",
      "#вакансия #удаленка #it #рекрутер\n",
      "\n",
      "Всем привет!👋                 \n",
      "\n",
      "Меня зовут Наталья, я Recruiting Lead международного IT рекрутингового агентства “КрутРекрут”.\n",
      "\n",
      "👀 Разыскиваю самостоятельного рекрутер для усиления работы нашей команды.\n",
      "\n",
      "Сейчас в команде 25 рекрутеров, два Recruiting Lead и Head of Recruiting. Команда полностью удаленная.\n",
      "\n",
      " 💻 Наши клиенты - это команды IT разработки таких компаний, как Яндекс, Альфа Банк, Газпром Медиа, М.Видео, десяток передовых стартапов таких как Rarible, Zerion. Несколько десятков средних, менее известных компаний.\n",
      "\n",
      "Сейчас мы не справляемся с потоком заявок на вакансии. На рекрутера приходиться от 6 вакансий, но текущие клиенты увеличивают объемы и нам, с тяжестью на душе, приходится отказываться от новых интересных проектов.\n",
      "\n",
      "😎 Поэтому открыли эту позицию и ждем тебя.\n",
      "          \n",
      "‼ Нам очень важна экологичная работа над вакансией: интересы и потребности кандидата совпадают с потребностями и целями клиента.  Мы ждем человека, который руководствуется потребностями и целями обеих сторон.‼  \n",
      "\n",
      "💪 Мы ожидаем, что ты: \n",
      "- Совместно с клиентом сформулируешь портрет кандидата, закрывающего его потребности, используя нашу методологию, \n",
      "- Составишь привлекательное и точное предложение для рынка кандидатов,\n",
      "- Разработаешь умную стратегию поиска нужного человека,\n",
      "- Найдешь нужного кандидата, используя технологии и инструменты IT recruiting,\n",
      "- Будешь методично сопровождать подбор и мастерски вести кандидата на стороне клиента до получения оффера и выхода на работу.\n",
      "\n",
      "✅ Также ждем, что у тебя:  \n",
      "- Имеется опыт в IT recruiting (инхаус от 1 года или агентство от 6 месяцев),\n",
      "- Высокий уровень самостоятельности, \n",
      "есть готовность брать на себя ответственность за результат,\n",
      "- Ты за экологичное закрытие вакансий и добро клиенту и кандидату, \n",
      "\n",
      "‼ Мы ждем тебя в нашей классной команде.\n",
      "\n",
      "🍨 С нашей стороны мы предлагаем: \n",
      "- Полностью удаленную работу в команде профессионалов, окажем поддержку и наставничество в любых вопросах\n",
      "- Возможность работы и/или в нашем офисе на Бали. Оплачиваем перелет, визу, транспорт, страховку и проживание\n",
      "- Динамичный портфель из интересных вакансий топовых IT компаний  (от 5 до 10 вакансий), с первого месяца возможно получить результат\n",
      "- Экологичный подход к закрытию вакансий как для клиентов, так и кандидатов рынка труда, \n",
      "- Современную методологию IT recruiting (мы гордимся ей), освоив ее, сможешь системно закрывать любые позиции\n",
      "- Привлекательные условия оплаты: фикс от 50000 до 70000 р (в зависимости от уровня компетенций) + KPI от 50000 р.\n",
      "- Выплаты ЗП в крипте или в рублях\n",
      "\n",
      "Заинтересовало? пиши, отвечу на любые вопросы  @SenchenkoNatali\n"
     ]
    },
    {
     "data": {
      "application/javascript": [
       "\n",
       "        if (window._pyforest_update_imports_cell) { window._pyforest_update_imports_cell('import numpy as np'); }\n",
       "    "
      ],
      "text/plain": [
       "<IPython.core.display.Javascript object>"
      ]
     },
     "metadata": {},
     "output_type": "display_data"
    },
    {
     "name": "stdout",
     "output_type": "stream",
     "text": [
      "1.0\n",
      "\n",
      "#программист1с  #1С #Самара\n",
      "\n",
      "Вакансия: Ведущий программист\n",
      "город: Самара\n",
      "з/п: 120 т.р.\n",
      "\n",
      "Обязанности:\n",
      "•  разработка/программирование в среде 1С: Предприятие 8.2, 8.3;\n",
      "•  поддержка текущих конфигураций 1С: Бухгалтерия, ЗУП, Управление торговлей;\n",
      "•  исправление ошибок учета в товародвижении;\n",
      "•  поддержка пользователей программы мобильной торговли;\n",
      "•  информационная и технологическая поддержка пользователей.\n",
      "\n",
      "Требования:\n",
      "•  опыт разработки и доработки конфигурации не менее 1 года;\n",
      "•  навыки  построения учета 1С: Предприятие 8.2, 8.3;\n",
      "\n",
      "Для связи: @HRSvetservis\n"
     ]
    },
    {
     "data": {
      "application/javascript": [
       "\n",
       "        if (window._pyforest_update_imports_cell) { window._pyforest_update_imports_cell('import numpy as np'); }\n",
       "    "
      ],
      "text/plain": [
       "<IPython.core.display.Javascript object>"
      ]
     },
     "metadata": {},
     "output_type": "display_data"
    },
    {
     "name": "stdout",
     "output_type": "stream",
     "text": [
      "1.0\n",
      "\n",
      "Senior/Lead Go Developer\n",
      "в Кошелек.ру — IT- компания, специализирующаяся на разработке ПО для банков, платежных систем на базе технологии blockchain.\n",
      "190К-290К, Санкт-Петербург.\n",
      "Описание вакансии https://is.gd/IKfKDs\n",
      "#senior #lead #go #golang #developer #вакансия #санктпетербург\n"
     ]
    },
    {
     "data": {
      "application/javascript": [
       "\n",
       "        if (window._pyforest_update_imports_cell) { window._pyforest_update_imports_cell('import numpy as np'); }\n",
       "    "
      ],
      "text/plain": [
       "<IPython.core.display.Javascript object>"
      ]
     },
     "metadata": {},
     "output_type": "display_data"
    },
    {
     "name": "stdout",
     "output_type": "stream",
     "text": [
      "1.0\n",
      "\n",
      "#job #russia #remote #вакансия #удаленка #middle #qa #manual\n",
      "\n",
      "Привет, это ARRIVAL – разрабатываем электрический транспорт и инфраструктуру к нему. По ссылке можно ознакомиться с нашими продуктами https://www.youtube.com/channel/UCbhn0OHHbTEmgrl19dAEK_w\n",
      "\n",
      "В продукт \"Сервисная платформа\" нужен специалист по ручному тестированию. Отлично, если есть небольшой опыт автоматизации и желание развиваться в этой области. \n",
      "\n",
      "Формат: удаленно\n",
      "При желании можно ходить в офис на Петроградской, Льва Толстого 1-3, Ясная Поляна. Завтраки, перекусы, велопарковка, душ и проч. приятные радости или Москва, Таганская \n",
      "\n",
      "Зарплатная вилка: 100 000 – 200 000 рублей \n",
      "Знание языка: Upper-Intermediate (В2).\n",
      "\n",
      "\n",
      "Задачи: выполнение ручного функционального тестирования и там, где это целесообразно, внедрить локальную автоматизацию тестирования (Java).\n",
      "\n",
      "Мы предлагаем: \n",
      "– возможность работать удаленно откуда угодно (часовой пояс Мск)\n",
      "– трудоустройство по ТК РФ \n",
      "– оплачиваем отпускные и больничный 100% \n",
      "– ДМС со стоматологией, страхованием жизни с 1 рабочего дня, после испытательного срока можно включить семью, близких родственников или детей. ДМС работает в любом городе России \n",
      "– fix сумма на год для расходов на спорт, обучение, покупку книг, прохождение сертификатов, посещение конференций, курсов. Вы выбираете – компания возмещает расходы \n",
      "– новое оборудование (Mac/Thinkpad)\n",
      "– программа опционов. \n",
      "\n",
      "Писать мне @varvaraorekh\n"
     ]
    },
    {
     "data": {
      "application/javascript": [
       "\n",
       "        if (window._pyforest_update_imports_cell) { window._pyforest_update_imports_cell('import numpy as np'); }\n",
       "    "
      ],
      "text/plain": [
       "<IPython.core.display.Javascript object>"
      ]
     },
     "metadata": {},
     "output_type": "display_data"
    },
    {
     "name": "stdout",
     "output_type": "stream",
     "text": [
      "1.0\n",
      "\n",
      "Middle/Senior PHP developer\n",
      "\n",
      "#php #backend #вакансия #разработчик #middle #senior\n",
      "\n",
      "Позиция: Middle/Senior PHP developer\n",
      "\n",
      "Компания: РНКБ Банк\n",
      "\n",
      "З/П  220 000 обсуждаем\n",
      "\n",
      "Локация: Москва\n",
      "\n",
      "Что предстоит делать:\n",
      "\n",
      "🔹Развивать API мобильного приложения\n",
      "\n",
      "🔹Дорабатывать панель администрирования\n",
      "\n",
      "🔹Рефакторинг кода и внедрение best practice\n",
      "\n",
      "🔹Покрытие кода тестами\n",
      "\n",
      "🔹Core review\n",
      "\n",
      "Что мы ожидаем:\n",
      "\n",
      "🔸Отличное знание PHP 7+\n",
      "\n",
      "🔸Опыт работы с MySQL и Postgres, Redis и брокерами очередей\n",
      "\n",
      "🔸Опыт разработки на популярных фреймворках (в идеале - Laravel)\n",
      "\n",
      "🔸Опыт написание функциональных и Unit-тестов\n",
      "\n",
      "Большим плюсом будет знание (или стремление изучить):\n",
      "\n",
      "🔸JSфреймворки и бандлерами (мы используем Vue и Webpack)\n",
      "\n",
      "🔸GoLang / Rust\n",
      "\n",
      "🔸Создание микросервисов, контейнеризация\n",
      "\n",
      "🔸Автоматизация разработки CI/CD\n",
      "\n",
      "Middle/Senior PHP developer 2\n",
      "\n",
      "Что мы предлагаем:\n",
      "\n",
      "🔹Дистанционный формат работы на время пандемии/Офис м. Автозаводская/м. Новослободская/ удалённо из любого города\n",
      "\n",
      "🔹Соц. пакет, ДМС, ежеквартальное премирование\n",
      "\n",
      "Подробности ЛС\n"
     ]
    },
    {
     "data": {
      "application/javascript": [
       "\n",
       "        if (window._pyforest_update_imports_cell) { window._pyforest_update_imports_cell('import numpy as np'); }\n",
       "    "
      ],
      "text/plain": [
       "<IPython.core.display.Javascript object>"
      ]
     },
     "metadata": {},
     "output_type": "display_data"
    },
    {
     "name": "stdout",
     "output_type": "stream",
     "text": [
      "1.0\n"
     ]
    },
    {
     "ename": "KeyboardInterrupt",
     "evalue": "Interrupted by user",
     "output_type": "error",
     "traceback": [
      "\u001b[1;31m---------------------------------------------------------------------------\u001b[0m",
      "\u001b[1;31mKeyboardInterrupt\u001b[0m                         Traceback (most recent call last)",
      "\u001b[1;32m<ipython-input-146-af62d7074289>\u001b[0m in \u001b[0;36m<module>\u001b[1;34m\u001b[0m\n\u001b[0;32m      3\u001b[0m     \u001b[0mdoc\u001b[0m \u001b[1;33m=\u001b[0m \u001b[0mit_nlp\u001b[0m\u001b[1;33m(\u001b[0m\u001b[0mdf_it_check\u001b[0m\u001b[1;33m.\u001b[0m\u001b[0miloc\u001b[0m\u001b[1;33m[\u001b[0m\u001b[0mi\u001b[0m\u001b[1;33m,\u001b[0m \u001b[1;36m0\u001b[0m\u001b[1;33m]\u001b[0m\u001b[1;33m)\u001b[0m\u001b[1;33m\u001b[0m\u001b[1;33m\u001b[0m\u001b[0m\n\u001b[0;32m      4\u001b[0m     \u001b[0mprint\u001b[0m\u001b[1;33m(\u001b[0m\u001b[0mnp\u001b[0m\u001b[1;33m.\u001b[0m\u001b[0mround\u001b[0m\u001b[1;33m(\u001b[0m\u001b[0mdoc\u001b[0m\u001b[1;33m.\u001b[0m\u001b[0mcats\u001b[0m\u001b[1;33m[\u001b[0m\u001b[1;34m'IT'\u001b[0m\u001b[1;33m]\u001b[0m\u001b[1;33m)\u001b[0m\u001b[1;33m)\u001b[0m\u001b[1;33m\u001b[0m\u001b[1;33m\u001b[0m\u001b[0m\n\u001b[1;32m----> 5\u001b[1;33m     \u001b[0minput\u001b[0m\u001b[1;33m(\u001b[0m\u001b[1;33m)\u001b[0m\u001b[1;33m\u001b[0m\u001b[1;33m\u001b[0m\u001b[0m\n\u001b[0m",
      "\u001b[1;32md:\\python\\python39\\lib\\site-packages\\ipykernel\\kernelbase.py\u001b[0m in \u001b[0;36mraw_input\u001b[1;34m(self, prompt)\u001b[0m\n\u001b[0;32m    846\u001b[0m                 \u001b[1;34m\"raw_input was called, but this frontend does not support input requests.\"\u001b[0m\u001b[1;33m\u001b[0m\u001b[1;33m\u001b[0m\u001b[0m\n\u001b[0;32m    847\u001b[0m             )\n\u001b[1;32m--> 848\u001b[1;33m         return self._input_request(str(prompt),\n\u001b[0m\u001b[0;32m    849\u001b[0m             \u001b[0mself\u001b[0m\u001b[1;33m.\u001b[0m\u001b[0m_parent_ident\u001b[0m\u001b[1;33m,\u001b[0m\u001b[1;33m\u001b[0m\u001b[1;33m\u001b[0m\u001b[0m\n\u001b[0;32m    850\u001b[0m             \u001b[0mself\u001b[0m\u001b[1;33m.\u001b[0m\u001b[0m_parent_header\u001b[0m\u001b[1;33m,\u001b[0m\u001b[1;33m\u001b[0m\u001b[1;33m\u001b[0m\u001b[0m\n",
      "\u001b[1;32md:\\python\\python39\\lib\\site-packages\\ipykernel\\kernelbase.py\u001b[0m in \u001b[0;36m_input_request\u001b[1;34m(self, prompt, ident, parent, password)\u001b[0m\n\u001b[0;32m    890\u001b[0m             \u001b[1;32mexcept\u001b[0m \u001b[0mKeyboardInterrupt\u001b[0m\u001b[1;33m:\u001b[0m\u001b[1;33m\u001b[0m\u001b[1;33m\u001b[0m\u001b[0m\n\u001b[0;32m    891\u001b[0m                 \u001b[1;31m# re-raise KeyboardInterrupt, to truncate traceback\u001b[0m\u001b[1;33m\u001b[0m\u001b[1;33m\u001b[0m\u001b[1;33m\u001b[0m\u001b[0m\n\u001b[1;32m--> 892\u001b[1;33m                 \u001b[1;32mraise\u001b[0m \u001b[0mKeyboardInterrupt\u001b[0m\u001b[1;33m(\u001b[0m\u001b[1;34m\"Interrupted by user\"\u001b[0m\u001b[1;33m)\u001b[0m \u001b[1;32mfrom\u001b[0m \u001b[1;32mNone\u001b[0m\u001b[1;33m\u001b[0m\u001b[1;33m\u001b[0m\u001b[0m\n\u001b[0m\u001b[0;32m    893\u001b[0m             \u001b[1;32mexcept\u001b[0m \u001b[0mException\u001b[0m \u001b[1;32mas\u001b[0m \u001b[0me\u001b[0m\u001b[1;33m:\u001b[0m\u001b[1;33m\u001b[0m\u001b[1;33m\u001b[0m\u001b[0m\n\u001b[0;32m    894\u001b[0m                 \u001b[0mself\u001b[0m\u001b[1;33m.\u001b[0m\u001b[0mlog\u001b[0m\u001b[1;33m.\u001b[0m\u001b[0mwarning\u001b[0m\u001b[1;33m(\u001b[0m\u001b[1;34m\"Invalid Message:\"\u001b[0m\u001b[1;33m,\u001b[0m \u001b[0mexc_info\u001b[0m\u001b[1;33m=\u001b[0m\u001b[1;32mTrue\u001b[0m\u001b[1;33m)\u001b[0m\u001b[1;33m\u001b[0m\u001b[1;33m\u001b[0m\u001b[0m\n",
      "\u001b[1;31mKeyboardInterrupt\u001b[0m: Interrupted by user"
     ]
    }
   ],
   "source": [
    "for i in range(len(df_it_check)):\n",
    "    print(df_it_check.iloc[i, 0])\n",
    "    doc = it_nlp(df_it_check.iloc[i, 0])\n",
    "    print(np.round(doc.cats['IT']))\n",
    "    input()"
   ]
  }
 ],
 "metadata": {
  "kernelspec": {
   "display_name": "Python 3",
   "language": "python",
   "name": "python3"
  },
  "language_info": {
   "codemirror_mode": {
    "name": "ipython",
    "version": 3
   },
   "file_extension": ".py",
   "mimetype": "text/x-python",
   "name": "python",
   "nbconvert_exporter": "python",
   "pygments_lexer": "ipython3",
   "version": "3.9.5"
  }
 },
 "nbformat": 4,
 "nbformat_minor": 5
}
