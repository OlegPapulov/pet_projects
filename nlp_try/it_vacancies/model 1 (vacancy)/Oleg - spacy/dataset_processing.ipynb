{
 "cells": [
  {
   "cell_type": "code",
   "execution_count": 1,
   "id": "cc36f2c8",
   "metadata": {},
   "outputs": [],
   "source": [
    "import pandas as pd"
   ]
  },
  {
   "cell_type": "code",
   "execution_count": 2,
   "id": "67092351",
   "metadata": {},
   "outputs": [],
   "source": [
    "df = pd.read_csv('train-01,02 with title.csv')"
   ]
  },
  {
   "cell_type": "code",
   "execution_count": 3,
   "id": "a71eb0ba",
   "metadata": {},
   "outputs": [],
   "source": [
    "df['label'] = df['label'].apply(lambda x: str(x).replace('0#', ''))"
   ]
  },
  {
   "cell_type": "code",
   "execution_count": 4,
   "id": "9e856812",
   "metadata": {},
   "outputs": [],
   "source": [
    "df['label'] = df['label'].apply(lambda x: str(x).replace('React Native разработчик#unknown', 'React Native разработчик'))"
   ]
  },
  {
   "cell_type": "code",
   "execution_count": 5,
   "id": "9c76de59",
   "metadata": {
    "scrolled": true
   },
   "outputs": [
    {
     "data": {
      "text/html": [
       "<div>\n",
       "<style scoped>\n",
       "    .dataframe tbody tr th:only-of-type {\n",
       "        vertical-align: middle;\n",
       "    }\n",
       "\n",
       "    .dataframe tbody tr th {\n",
       "        vertical-align: top;\n",
       "    }\n",
       "\n",
       "    .dataframe thead th {\n",
       "        text-align: right;\n",
       "    }\n",
       "</style>\n",
       "<table border=\"1\" class=\"dataframe\">\n",
       "  <thead>\n",
       "    <tr style=\"text-align: right;\">\n",
       "      <th></th>\n",
       "      <th>id</th>\n",
       "      <th>data</th>\n",
       "      <th>label</th>\n",
       "    </tr>\n",
       "  </thead>\n",
       "  <tbody>\n",
       "    <tr>\n",
       "      <th>0</th>\n",
       "      <td>4509</td>\n",
       "      <td>Вы как что взяли 3000 рублей? Вас не смущает ч...</td>\n",
       "      <td>0</td>\n",
       "    </tr>\n",
       "    <tr>\n",
       "      <th>1</th>\n",
       "      <td>4510</td>\n",
       "      <td>Ищу программиста 1С в г. Липецк\\r\\n#вакансия #...</td>\n",
       "      <td>1C-разработчик</td>\n",
       "    </tr>\n",
       "    <tr>\n",
       "      <th>2</th>\n",
       "      <td>4511</td>\n",
       "      <td>Business analyst в IQVIA\\r\\n\\r\\nteletype.in/@d...</td>\n",
       "      <td>Бизнес-аналитик</td>\n",
       "    </tr>\n",
       "    <tr>\n",
       "      <th>3</th>\n",
       "      <td>4512</td>\n",
       "      <td>• Middle Python разработчик в Центробит, Москв...</td>\n",
       "      <td>Python-разработчик</td>\n",
       "    </tr>\n",
       "    <tr>\n",
       "      <th>4</th>\n",
       "      <td>4513</td>\n",
       "      <td>Ruby Backend Developer (+Gо)\\r\\nв Staply — пер...</td>\n",
       "      <td>Ruby-разработчик</td>\n",
       "    </tr>\n",
       "  </tbody>\n",
       "</table>\n",
       "</div>"
      ],
      "text/plain": [
       "     id                                               data               label\n",
       "0  4509  Вы как что взяли 3000 рублей? Вас не смущает ч...                   0\n",
       "1  4510  Ищу программиста 1С в г. Липецк\\r\\n#вакансия #...      1C-разработчик\n",
       "2  4511  Business analyst в IQVIA\\r\\n\\r\\nteletype.in/@d...     Бизнес-аналитик\n",
       "3  4512  • Middle Python разработчик в Центробит, Москв...  Python-разработчик\n",
       "4  4513  Ruby Backend Developer (+Gо)\\r\\nв Staply — пер...    Ruby-разработчик"
      ]
     },
     "execution_count": 5,
     "metadata": {},
     "output_type": "execute_result"
    }
   ],
   "source": [
    "df.head()"
   ]
  },
  {
   "cell_type": "code",
   "execution_count": 6,
   "id": "c97c3c48",
   "metadata": {},
   "outputs": [],
   "source": [
    "df = df.drop(columns=['id'])"
   ]
  },
  {
   "cell_type": "code",
   "execution_count": 15,
   "id": "8ac44f63",
   "metadata": {
    "scrolled": false
   },
   "outputs": [
    {
     "data": {
      "text/plain": [
       "56"
      ]
     },
     "execution_count": 15,
     "metadata": {},
     "output_type": "execute_result"
    }
   ],
   "source": [
    "df['label'].nunique()"
   ]
  },
  {
   "cell_type": "code",
   "execution_count": 8,
   "id": "5d00a76f",
   "metadata": {},
   "outputs": [
    {
     "data": {
      "text/plain": [
       "0"
      ]
     },
     "execution_count": 8,
     "metadata": {},
     "output_type": "execute_result"
    }
   ],
   "source": [
    "df['label'].isnull().sum()"
   ]
  },
  {
   "cell_type": "code",
   "execution_count": 9,
   "id": "f8ad3f1b",
   "metadata": {},
   "outputs": [],
   "source": [
    "df_unknown = df[df['label'].isin(['unknown', 'Бухгалтер', 'Email-маркетолог', 'HR-специалист', 'nan'])]"
   ]
  },
  {
   "cell_type": "code",
   "execution_count": 14,
   "id": "150f2425",
   "metadata": {},
   "outputs": [],
   "source": [
    "df_unknown.to_excel('train_unknown.xlsx', index=False)"
   ]
  },
  {
   "cell_type": "code",
   "execution_count": 13,
   "id": "b56fe28f",
   "metadata": {},
   "outputs": [
    {
     "data": {
      "text/html": [
       "<div>\n",
       "<style scoped>\n",
       "    .dataframe tbody tr th:only-of-type {\n",
       "        vertical-align: middle;\n",
       "    }\n",
       "\n",
       "    .dataframe tbody tr th {\n",
       "        vertical-align: top;\n",
       "    }\n",
       "\n",
       "    .dataframe thead th {\n",
       "        text-align: right;\n",
       "    }\n",
       "</style>\n",
       "<table border=\"1\" class=\"dataframe\">\n",
       "  <thead>\n",
       "    <tr style=\"text-align: right;\">\n",
       "      <th></th>\n",
       "      <th>data</th>\n",
       "      <th>label</th>\n",
       "    </tr>\n",
       "  </thead>\n",
       "  <tbody>\n",
       "    <tr>\n",
       "      <th>5</th>\n",
       "      <td>Разработка Telegram ботов любой сложности!\\r\\n...</td>\n",
       "      <td>unknown</td>\n",
       "    </tr>\n",
       "    <tr>\n",
       "      <th>6</th>\n",
       "      <td>IT-рекрутер в STREAM (ПАО МТС): stream.ru\\r\\n\\...</td>\n",
       "      <td>HR-специалист</td>\n",
       "    </tr>\n",
       "    <tr>\n",
       "      <th>7</th>\n",
       "      <td>Marketing Assistant в Nestle\\r\\n\\r\\nteletype.i...</td>\n",
       "      <td>unknown</td>\n",
       "    </tr>\n",
       "    <tr>\n",
       "      <th>11</th>\n",
       "      <td>• Software Engineer (iOS, Android, React Nativ...</td>\n",
       "      <td>unknown</td>\n",
       "    </tr>\n",
       "    <tr>\n",
       "      <th>14</th>\n",
       "      <td>Marketing Expert в Raiffeisen\\r\\n\\r\\nteletype....</td>\n",
       "      <td>unknown</td>\n",
       "    </tr>\n",
       "  </tbody>\n",
       "</table>\n",
       "</div>"
      ],
      "text/plain": [
       "                                                 data          label\n",
       "5   Разработка Telegram ботов любой сложности!\\r\\n...        unknown\n",
       "6   IT-рекрутер в STREAM (ПАО МТС): stream.ru\\r\\n\\...  HR-специалист\n",
       "7   Marketing Assistant в Nestle\\r\\n\\r\\nteletype.i...        unknown\n",
       "11  • Software Engineer (iOS, Android, React Nativ...        unknown\n",
       "14  Marketing Expert в Raiffeisen\\r\\n\\r\\nteletype....        unknown"
      ]
     },
     "execution_count": 13,
     "metadata": {},
     "output_type": "execute_result"
    }
   ],
   "source": [
    "df_unknown.head()"
   ]
  }
 ],
 "metadata": {
  "kernelspec": {
   "display_name": "Python 3",
   "language": "python",
   "name": "python3"
  },
  "language_info": {
   "codemirror_mode": {
    "name": "ipython",
    "version": 3
   },
   "file_extension": ".py",
   "mimetype": "text/x-python",
   "name": "python",
   "nbconvert_exporter": "python",
   "pygments_lexer": "ipython3",
   "version": "3.9.5"
  }
 },
 "nbformat": 4,
 "nbformat_minor": 5
}
