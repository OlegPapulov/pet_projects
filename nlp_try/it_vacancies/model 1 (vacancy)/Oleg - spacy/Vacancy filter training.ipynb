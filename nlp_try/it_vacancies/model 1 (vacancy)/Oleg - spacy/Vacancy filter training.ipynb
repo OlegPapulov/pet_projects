{
 "cells": [
  {
   "cell_type": "markdown",
   "id": "9b44b7a5",
   "metadata": {},
   "source": [
    "## Data loading and preprocessing"
   ]
  },
  {
   "cell_type": "code",
   "execution_count": 22,
   "id": "3ec04ba1",
   "metadata": {},
   "outputs": [],
   "source": [
    "import pandas as pd\n",
    "from tqdm import tqdm\n",
    "import random"
   ]
  },
  {
   "cell_type": "code",
   "execution_count": 2,
   "id": "9436bf82",
   "metadata": {},
   "outputs": [],
   "source": [
    "df1 = pd.read_csv('without_unknown_train0102.csv')\n",
    "df2 = pd.read_csv('unknown_labelled.csv')\n",
    "df2 = df2.drop(columns=['id'])"
   ]
  },
  {
   "cell_type": "code",
   "execution_count": 3,
   "id": "3a95b2ed",
   "metadata": {
    "scrolled": true
   },
   "outputs": [
    {
     "data": {
      "text/html": [
       "<div>\n",
       "<style scoped>\n",
       "    .dataframe tbody tr th:only-of-type {\n",
       "        vertical-align: middle;\n",
       "    }\n",
       "\n",
       "    .dataframe tbody tr th {\n",
       "        vertical-align: top;\n",
       "    }\n",
       "\n",
       "    .dataframe thead th {\n",
       "        text-align: right;\n",
       "    }\n",
       "</style>\n",
       "<table border=\"1\" class=\"dataframe\">\n",
       "  <thead>\n",
       "    <tr style=\"text-align: right;\">\n",
       "      <th></th>\n",
       "      <th>data</th>\n",
       "      <th>label</th>\n",
       "    </tr>\n",
       "  </thead>\n",
       "  <tbody>\n",
       "    <tr>\n",
       "      <th>0</th>\n",
       "      <td>Вы как что взяли 3000 рублей? Вас не смущает ч...</td>\n",
       "      <td>0</td>\n",
       "    </tr>\n",
       "    <tr>\n",
       "      <th>1</th>\n",
       "      <td>Ищу программиста 1С в г. Липецк\\r\\n#вакансия #...</td>\n",
       "      <td>1C-разработчик</td>\n",
       "    </tr>\n",
       "    <tr>\n",
       "      <th>2</th>\n",
       "      <td>Business analyst в IQVIA\\r\\n\\r\\nteletype.in/@d...</td>\n",
       "      <td>Бизнес-аналитик</td>\n",
       "    </tr>\n",
       "    <tr>\n",
       "      <th>3</th>\n",
       "      <td>• Middle Python разработчик в Центробит, Москв...</td>\n",
       "      <td>Python-разработчик</td>\n",
       "    </tr>\n",
       "    <tr>\n",
       "      <th>4</th>\n",
       "      <td>Ruby Backend Developer (+Gо)\\r\\nв Staply — пер...</td>\n",
       "      <td>Ruby-разработчик</td>\n",
       "    </tr>\n",
       "  </tbody>\n",
       "</table>\n",
       "</div>"
      ],
      "text/plain": [
       "                                                data               label\n",
       "0  Вы как что взяли 3000 рублей? Вас не смущает ч...                   0\n",
       "1  Ищу программиста 1С в г. Липецк\\r\\n#вакансия #...      1C-разработчик\n",
       "2  Business analyst в IQVIA\\r\\n\\r\\nteletype.in/@d...     Бизнес-аналитик\n",
       "3  • Middle Python разработчик в Центробит, Москв...  Python-разработчик\n",
       "4  Ruby Backend Developer (+Gо)\\r\\nв Staply — пер...    Ruby-разработчик"
      ]
     },
     "execution_count": 3,
     "metadata": {},
     "output_type": "execute_result"
    }
   ],
   "source": [
    "df1.head()"
   ]
  },
  {
   "cell_type": "code",
   "execution_count": 4,
   "id": "f9da118f",
   "metadata": {
    "scrolled": true
   },
   "outputs": [
    {
     "data": {
      "text/html": [
       "<div>\n",
       "<style scoped>\n",
       "    .dataframe tbody tr th:only-of-type {\n",
       "        vertical-align: middle;\n",
       "    }\n",
       "\n",
       "    .dataframe tbody tr th {\n",
       "        vertical-align: top;\n",
       "    }\n",
       "\n",
       "    .dataframe thead th {\n",
       "        text-align: right;\n",
       "    }\n",
       "</style>\n",
       "<table border=\"1\" class=\"dataframe\">\n",
       "  <thead>\n",
       "    <tr style=\"text-align: right;\">\n",
       "      <th></th>\n",
       "      <th>data</th>\n",
       "      <th>label</th>\n",
       "    </tr>\n",
       "  </thead>\n",
       "  <tbody>\n",
       "    <tr>\n",
       "      <th>0</th>\n",
       "      <td>Team Lead (C#, JavaScript)\\nв Тандер, Магнит —...</td>\n",
       "      <td>Несколько вакансий</td>\n",
       "    </tr>\n",
       "    <tr>\n",
       "      <th>1</th>\n",
       "      <td>Разработка Telegram ботов любой сложности!\\n\\n...</td>\n",
       "      <td>0</td>\n",
       "    </tr>\n",
       "    <tr>\n",
       "      <th>2</th>\n",
       "      <td>IT-рекрутер в STREAM (ПАО МТС): stream.ru\\n\\nО...</td>\n",
       "      <td>IT-рекрутер</td>\n",
       "    </tr>\n",
       "    <tr>\n",
       "      <th>3</th>\n",
       "      <td>Marketing Assistant в Nestle\\n\\nteletype.in/@d...</td>\n",
       "      <td>non-IT</td>\n",
       "    </tr>\n",
       "    <tr>\n",
       "      <th>4</th>\n",
       "      <td>• Software Engineer (iOS, Android, React Nativ...</td>\n",
       "      <td>Несколько вакансий</td>\n",
       "    </tr>\n",
       "  </tbody>\n",
       "</table>\n",
       "</div>"
      ],
      "text/plain": [
       "                                                data               label\n",
       "0  Team Lead (C#, JavaScript)\\nв Тандер, Магнит —...  Несколько вакансий\n",
       "1  Разработка Telegram ботов любой сложности!\\n\\n...                   0\n",
       "2  IT-рекрутер в STREAM (ПАО МТС): stream.ru\\n\\nО...         IT-рекрутер\n",
       "3  Marketing Assistant в Nestle\\n\\nteletype.in/@d...              non-IT\n",
       "4  • Software Engineer (iOS, Android, React Nativ...  Несколько вакансий"
      ]
     },
     "execution_count": 4,
     "metadata": {},
     "output_type": "execute_result"
    }
   ],
   "source": [
    "df2.head()"
   ]
  },
  {
   "cell_type": "code",
   "execution_count": 5,
   "id": "459e272a",
   "metadata": {},
   "outputs": [],
   "source": [
    "df = pd.concat([df1, df2])"
   ]
  },
  {
   "cell_type": "code",
   "execution_count": 6,
   "id": "a631ceb3",
   "metadata": {
    "scrolled": true
   },
   "outputs": [
    {
     "data": {
      "text/html": [
       "<div>\n",
       "<style scoped>\n",
       "    .dataframe tbody tr th:only-of-type {\n",
       "        vertical-align: middle;\n",
       "    }\n",
       "\n",
       "    .dataframe tbody tr th {\n",
       "        vertical-align: top;\n",
       "    }\n",
       "\n",
       "    .dataframe thead th {\n",
       "        text-align: right;\n",
       "    }\n",
       "</style>\n",
       "<table border=\"1\" class=\"dataframe\">\n",
       "  <thead>\n",
       "    <tr style=\"text-align: right;\">\n",
       "      <th></th>\n",
       "      <th>data</th>\n",
       "      <th>label</th>\n",
       "    </tr>\n",
       "  </thead>\n",
       "  <tbody>\n",
       "    <tr>\n",
       "      <th>1138</th>\n",
       "      <td>Ты дурак?)</td>\n",
       "      <td>0</td>\n",
       "    </tr>\n",
       "    <tr>\n",
       "      <th>3108</th>\n",
       "      <td>#вакансия #qa #python #remote #удаленка \\r\\n\\r...</td>\n",
       "      <td>QA-Инженер</td>\n",
       "    </tr>\n",
       "    <tr>\n",
       "      <th>901</th>\n",
       "      <td>Full Stack JavaScript Developer\\r\\nв Кодабру —...</td>\n",
       "      <td>Full Stack разработчик</td>\n",
       "    </tr>\n",
       "    <tr>\n",
       "      <th>882</th>\n",
       "      <td>#вакансия #Москва #iOS #Swift #senior #middle ...</td>\n",
       "      <td>iOS-разработчик</td>\n",
       "    </tr>\n",
       "    <tr>\n",
       "      <th>2931</th>\n",
       "      <td>#gamedesigner #designer #remote #удаленно #mid...</td>\n",
       "      <td>non-IT</td>\n",
       "    </tr>\n",
       "  </tbody>\n",
       "</table>\n",
       "</div>"
      ],
      "text/plain": [
       "                                                   data  \\\n",
       "1138                                         Ты дурак?)   \n",
       "3108  #вакансия #qa #python #remote #удаленка \\r\\n\\r...   \n",
       "901   Full Stack JavaScript Developer\\r\\nв Кодабру —...   \n",
       "882   #вакансия #Москва #iOS #Swift #senior #middle ...   \n",
       "2931  #gamedesigner #designer #remote #удаленно #mid...   \n",
       "\n",
       "                       label  \n",
       "1138                       0  \n",
       "3108              QA-Инженер  \n",
       "901   Full Stack разработчик  \n",
       "882          iOS-разработчик  \n",
       "2931                  non-IT  "
      ]
     },
     "execution_count": 6,
     "metadata": {},
     "output_type": "execute_result"
    }
   ],
   "source": [
    "df.sample(5)"
   ]
  },
  {
   "cell_type": "code",
   "execution_count": 7,
   "id": "5e2d099a",
   "metadata": {},
   "outputs": [
    {
     "data": {
      "text/plain": [
       "1    2867\n",
       "0    1119\n",
       "Name: vacancy, dtype: int64"
      ]
     },
     "execution_count": 7,
     "metadata": {},
     "output_type": "execute_result"
    }
   ],
   "source": [
    "df['vacancy'] = df['label'].apply(lambda x: 1 if x!='0' else 0)\n",
    "df['vacancy'].value_counts()"
   ]
  },
  {
   "cell_type": "code",
   "execution_count": 8,
   "id": "d9e5e8a4",
   "metadata": {},
   "outputs": [
    {
     "data": {
      "text/plain": [
       "IT        2256\n",
       "non-IT    1730\n",
       "Name: IT, dtype: int64"
      ]
     },
     "execution_count": 8,
     "metadata": {},
     "output_type": "execute_result"
    }
   ],
   "source": [
    "df['IT'] = df['label'].apply(lambda x: 'non-IT' if (x=='non-IT' or x=='0') else 'IT')\n",
    "df['IT'].value_counts()"
   ]
  },
  {
   "cell_type": "code",
   "execution_count": 9,
   "id": "344a73d7",
   "metadata": {
    "scrolled": false
   },
   "outputs": [
    {
     "data": {
      "text/html": [
       "<div>\n",
       "<style scoped>\n",
       "    .dataframe tbody tr th:only-of-type {\n",
       "        vertical-align: middle;\n",
       "    }\n",
       "\n",
       "    .dataframe tbody tr th {\n",
       "        vertical-align: top;\n",
       "    }\n",
       "\n",
       "    .dataframe thead th {\n",
       "        text-align: right;\n",
       "    }\n",
       "</style>\n",
       "<table border=\"1\" class=\"dataframe\">\n",
       "  <thead>\n",
       "    <tr style=\"text-align: right;\">\n",
       "      <th></th>\n",
       "      <th>data</th>\n",
       "      <th>label</th>\n",
       "      <th>vacancy</th>\n",
       "      <th>IT</th>\n",
       "    </tr>\n",
       "  </thead>\n",
       "  <tbody>\n",
       "    <tr>\n",
       "      <th>1918</th>\n",
       "      <td>16 года на 16 гиг в М.Видео\\r\\nAir 😂</td>\n",
       "      <td>0</td>\n",
       "      <td>0</td>\n",
       "      <td>non-IT</td>\n",
       "    </tr>\n",
       "    <tr>\n",
       "      <th>2055</th>\n",
       "      <td>#Москва #java #kotlin #backend #spring #middle...</td>\n",
       "      <td>Java-разработчик</td>\n",
       "      <td>1</td>\n",
       "      <td>IT</td>\n",
       "    </tr>\n",
       "    <tr>\n",
       "      <th>170</th>\n",
       "      <td>#вакансия #удаленно #remote #офис #МСК #Россия...</td>\n",
       "      <td>Java-разработчик</td>\n",
       "      <td>1</td>\n",
       "      <td>IT</td>\n",
       "    </tr>\n",
       "    <tr>\n",
       "      <th>1907</th>\n",
       "      <td>Привет👋, @VictoriaRomanovna!\\r\\nСпасибо что оп...</td>\n",
       "      <td>0</td>\n",
       "      <td>0</td>\n",
       "      <td>non-IT</td>\n",
       "    </tr>\n",
       "    <tr>\n",
       "      <th>2261</th>\n",
       "      <td>Английский свободный нужен, тк будут командиро...</td>\n",
       "      <td>0</td>\n",
       "      <td>0</td>\n",
       "      <td>non-IT</td>\n",
       "    </tr>\n",
       "  </tbody>\n",
       "</table>\n",
       "</div>"
      ],
      "text/plain": [
       "                                                   data             label  \\\n",
       "1918               16 года на 16 гиг в М.Видео\\r\\nAir 😂                 0   \n",
       "2055  #Москва #java #kotlin #backend #spring #middle...  Java-разработчик   \n",
       "170   #вакансия #удаленно #remote #офис #МСК #Россия...  Java-разработчик   \n",
       "1907  Привет👋, @VictoriaRomanovna!\\r\\nСпасибо что оп...                 0   \n",
       "2261  Английский свободный нужен, тк будут командиро...                 0   \n",
       "\n",
       "      vacancy      IT  \n",
       "1918        0  non-IT  \n",
       "2055        1      IT  \n",
       "170         1      IT  \n",
       "1907        0  non-IT  \n",
       "2261        0  non-IT  "
      ]
     },
     "execution_count": 9,
     "metadata": {},
     "output_type": "execute_result"
    }
   ],
   "source": [
    "df.sample(5)"
   ]
  },
  {
   "cell_type": "markdown",
   "id": "5708c1a3",
   "metadata": {},
   "source": [
    "## 'Vacancy' filter (featuring spacy)"
   ]
  },
  {
   "cell_type": "code",
   "execution_count": 10,
   "id": "783ccb18",
   "metadata": {},
   "outputs": [],
   "source": [
    "import spacy\n",
    "from spacy.tokens import DocBin"
   ]
  },
  {
   "cell_type": "code",
   "execution_count": 13,
   "id": "f1af6e4c",
   "metadata": {},
   "outputs": [
    {
     "data": {
      "text/html": [
       "<div>\n",
       "<style scoped>\n",
       "    .dataframe tbody tr th:only-of-type {\n",
       "        vertical-align: middle;\n",
       "    }\n",
       "\n",
       "    .dataframe tbody tr th {\n",
       "        vertical-align: top;\n",
       "    }\n",
       "\n",
       "    .dataframe thead th {\n",
       "        text-align: right;\n",
       "    }\n",
       "</style>\n",
       "<table border=\"1\" class=\"dataframe\">\n",
       "  <thead>\n",
       "    <tr style=\"text-align: right;\">\n",
       "      <th></th>\n",
       "      <th>data</th>\n",
       "      <th>vacancy</th>\n",
       "    </tr>\n",
       "  </thead>\n",
       "  <tbody>\n",
       "    <tr>\n",
       "      <th>312</th>\n",
       "      <td>Product Analyst в Gett\\n\\nteletype.in/@dreamjo...</td>\n",
       "      <td>1</td>\n",
       "    </tr>\n",
       "    <tr>\n",
       "      <th>2667</th>\n",
       "      <td>Sergey, [07.04.21 00:10]\\r\\n#вакансия #москва ...</td>\n",
       "      <td>1</td>\n",
       "    </tr>\n",
       "    <tr>\n",
       "      <th>1390</th>\n",
       "      <td>#вакансия #удалённо #job #remote #parttime #пр...</td>\n",
       "      <td>1</td>\n",
       "    </tr>\n",
       "    <tr>\n",
       "      <th>1977</th>\n",
       "      <td>#ищу таргетолога для продвижения личного блога...</td>\n",
       "      <td>0</td>\n",
       "    </tr>\n",
       "    <tr>\n",
       "      <th>1190</th>\n",
       "      <td>Product Manager\\r\\nв iFarm — российский агроте...</td>\n",
       "      <td>1</td>\n",
       "    </tr>\n",
       "  </tbody>\n",
       "</table>\n",
       "</div>"
      ],
      "text/plain": [
       "                                                   data  vacancy\n",
       "312   Product Analyst в Gett\\n\\nteletype.in/@dreamjo...        1\n",
       "2667  Sergey, [07.04.21 00:10]\\r\\n#вакансия #москва ...        1\n",
       "1390  #вакансия #удалённо #job #remote #parttime #пр...        1\n",
       "1977  #ищу таргетолога для продвижения личного блога...        0\n",
       "1190  Product Manager\\r\\nв iFarm — российский агроте...        1"
      ]
     },
     "execution_count": 13,
     "metadata": {},
     "output_type": "execute_result"
    }
   ],
   "source": [
    "df_vacancy = df[['data', 'vacancy']]\n",
    "df_vacancy.sample(5)"
   ]
  },
  {
   "cell_type": "code",
   "execution_count": 16,
   "id": "fc341984",
   "metadata": {
    "scrolled": true
   },
   "outputs": [],
   "source": [
    "vac_train_data = []\n",
    "\n",
    "for i in range(len(df_vacancy)):\n",
    "    vac_train_data.append((df_vacancy.iloc[i, 0], df_vacancy.iloc[i, 1]))"
   ]
  },
  {
   "cell_type": "code",
   "execution_count": 17,
   "id": "b0366bcc",
   "metadata": {},
   "outputs": [],
   "source": [
    "def make_docs(data):\n",
    "    docs = []\n",
    "    for doc, label in nlp.pipe(data, as_tuples = True):\n",
    "        if label == 0:\n",
    "            doc.cats['non-vacancy'] = 1\n",
    "        else:\n",
    "            doc.cats['vacancy'] = 1\n",
    "        docs.append(doc)\n",
    "    return (docs)"
   ]
  },
  {
   "cell_type": "code",
   "execution_count": 26,
   "id": "8fd6d50d",
   "metadata": {},
   "outputs": [],
   "source": [
    "nlp = spacy.load('ru_core_news_sm')"
   ]
  },
  {
   "cell_type": "code",
   "execution_count": 24,
   "id": "0163fb09",
   "metadata": {},
   "outputs": [
    {
     "data": {
      "application/javascript": [
       "\n",
       "        if (window._pyforest_update_imports_cell) { window._pyforest_update_imports_cell('import numpy as np'); }\n",
       "    "
      ],
      "text/plain": [
       "<IPython.core.display.Javascript object>"
      ]
     },
     "metadata": {},
     "output_type": "display_data"
    },
    {
     "data": {
      "text/plain": [
       "3189"
      ]
     },
     "execution_count": 24,
     "metadata": {},
     "output_type": "execute_result"
    }
   ],
   "source": [
    "num_texts = int(np.round(len(df_vacancy)*0.8))\n",
    "num_texts"
   ]
  },
  {
   "cell_type": "code",
   "execution_count": 28,
   "id": "358aec35",
   "metadata": {},
   "outputs": [],
   "source": [
    "train_docs = make_docs(random.choices(vac_train_data, k=num_texts))\n",
    "doc_bin = DocBin(docs=train_docs)\n",
    "doc_bin.to_disk(\"./vacancy_classifier/train.spacy\")\n",
    "\n",
    "valid_docs = make_docs(random.choices(vac_train_data, k=num_texts))\n",
    "doc_bin = DocBin(docs=valid_docs)\n",
    "doc_bin.to_disk(\"./vacancy_classifier/valid.spacy\")"
   ]
  },
  {
   "cell_type": "code",
   "execution_count": 38,
   "id": "705b0e6e",
   "metadata": {
    "scrolled": true
   },
   "outputs": [
    {
     "name": "stdout",
     "output_type": "stream",
     "text": [
      "[+] Auto-filled config with all values\n",
      "[+] Saved config\n",
      "vac_config.cfg\n",
      "You can now add your data and train your pipeline:\n",
      "python -m spacy train vac_config.cfg --paths.train ./train.spacy --paths.dev ./dev.spacy\n"
     ]
    },
    {
     "name": "stderr",
     "output_type": "stream",
     "text": [
      "2021-07-05 21:54:36.928505: W tensorflow/stream_executor/platform/default/dso_loader.cc:64] Could not load dynamic library 'cudart64_110.dll'; dlerror: cudart64_110.dll not found\n",
      "2021-07-05 21:54:36.928778: I tensorflow/stream_executor/cuda/cudart_stub.cc:29] Ignore above cudart dlerror if you do not have a GPU set up on your machine.\n"
     ]
    }
   ],
   "source": [
    "!python -m spacy init fill-config ./vac_base_config.cfg ./vac_config.cfg"
   ]
  },
  {
   "cell_type": "code",
   "execution_count": 39,
   "id": "11c926fa",
   "metadata": {
    "scrolled": false
   },
   "outputs": [
    {
     "name": "stdout",
     "output_type": "stream",
     "text": [
      "[i] Using CPU"
     ]
    },
    {
     "name": "stderr",
     "output_type": "stream",
     "text": [
      "2021-07-05 21:54:39.933556: W tensorflow/stream_executor/platform/default/dso_loader.cc:64] Could not load dynamic library 'cudart64_110.dll'; dlerror: cudart64_110.dll not found\n",
      "2021-07-05 21:54:39.933770: I tensorflow/stream_executor/cuda/cudart_stub.cc:29] Ignore above cudart dlerror if you do not have a GPU set up on your machine.\n",
      "[2021-07-05 21:54:41,953] [INFO] Set up nlp object from config\n",
      "[2021-07-05 21:54:41,959] [INFO] Pipeline: ['tok2vec', 'textcat']\n",
      "[2021-07-05 21:54:41,961] [INFO] Created vocabulary\n",
      "[2021-07-05 21:54:41,961] [INFO] Finished initializing nlp object\n",
      "[2021-07-05 21:54:50,660] [INFO] Initialized pipeline components: ['tok2vec', 'textcat']\n"
     ]
    },
    {
     "name": "stdout",
     "output_type": "stream",
     "text": [
      "\n",
      "\u001b[1m\n",
      "=========================== Initializing pipeline ===========================\u001b[0m\n",
      "[+] Initialized pipeline\n",
      "\u001b[1m\n",
      "============================= Training pipeline =============================\u001b[0m\n",
      "[i] Pipeline: ['tok2vec', 'textcat']\n",
      "[i] Initial learn rate: 0.001\n",
      "E    #       LOSS TOK2VEC  LOSS TEXTCAT  CATS_SCORE  SCORE \n",
      "---  ------  ------------  ------------  ----------  ------\n",
      "  0       0          0.00          0.25       41.95    0.42\n",
      "  0     200          0.00         12.50       85.61    0.86\n",
      "  0     400          0.00          6.59       91.96    0.92\n",
      "  0     600          0.00          5.56       93.16    0.93\n",
      "  0     800          0.00          4.40       94.01    0.94\n",
      "  0    1000          0.00          2.10       94.65    0.95\n",
      "  0    1200          0.00          2.98       94.66    0.95\n",
      "  0    1400          0.00          2.42       95.32    0.95\n",
      "  0    1600          0.00          4.34       95.38    0.95\n",
      "  1    1800          0.00          1.11       95.79    0.96\n",
      "  1    2000          0.00          0.39       95.79    0.96\n",
      "  1    2200          0.00          1.33       96.19    0.96\n",
      "  1    2400          0.00          0.25       96.61    0.97\n",
      "  1    2600          0.00          1.11       96.65    0.97\n",
      "  2    2800          0.00          0.04       96.82    0.97\n",
      "  2    3000          0.00          0.05       96.83    0.97\n",
      "  3    3200          0.00          0.04       96.75    0.97\n",
      "  3    3400          0.00          0.04       96.87    0.97\n",
      "  4    3600          0.00          0.03       96.67    0.97\n",
      "  4    3800          0.00          0.01       96.70    0.97\n",
      "  5    4000          0.00          0.06       96.86    0.97\n",
      "  5    4200          0.00          0.04       96.82    0.97\n",
      "  6    4400          0.00          0.02       96.74    0.97\n",
      "  6    4600          0.00          0.05       96.74    0.97\n",
      "  6    4800          0.00          0.01       96.79    0.97\n",
      "  7    5000          0.00          0.13       96.66    0.97\n",
      "[+] Saved pipeline to output directory\n",
      "vac_output\\model-last\n"
     ]
    }
   ],
   "source": [
    "!python -m spacy train vac_config.cfg --output ./vac_output"
   ]
  },
  {
   "cell_type": "markdown",
   "id": "79141443",
   "metadata": {},
   "source": [
    "## 'IT' filter (featuring spacy)"
   ]
  },
  {
   "cell_type": "code",
   "execution_count": 52,
   "id": "8f597dcb",
   "metadata": {
    "scrolled": true
   },
   "outputs": [
    {
     "data": {
      "text/html": [
       "<div>\n",
       "<style scoped>\n",
       "    .dataframe tbody tr th:only-of-type {\n",
       "        vertical-align: middle;\n",
       "    }\n",
       "\n",
       "    .dataframe tbody tr th {\n",
       "        vertical-align: top;\n",
       "    }\n",
       "\n",
       "    .dataframe thead th {\n",
       "        text-align: right;\n",
       "    }\n",
       "</style>\n",
       "<table border=\"1\" class=\"dataframe\">\n",
       "  <thead>\n",
       "    <tr style=\"text-align: right;\">\n",
       "      <th></th>\n",
       "      <th>data</th>\n",
       "      <th>IT</th>\n",
       "    </tr>\n",
       "  </thead>\n",
       "  <tbody>\n",
       "    <tr>\n",
       "      <th>2614</th>\n",
       "      <td>💚 Usetech приглашает в свою команду Team Lead ...</td>\n",
       "      <td>IT</td>\n",
       "    </tr>\n",
       "    <tr>\n",
       "      <th>795</th>\n",
       "      <td>CMO / Head of ASO\\r\\nв ASOdesk — платформа для...</td>\n",
       "      <td>non-IT</td>\n",
       "    </tr>\n",
       "    <tr>\n",
       "      <th>3113</th>\n",
       "      <td>Коммерческий директор\\r\\nв Малахит — компания ...</td>\n",
       "      <td>non-IT</td>\n",
       "    </tr>\n",
       "    <tr>\n",
       "      <th>3137</th>\n",
       "      <td>Product Manager\\r\\nв Реклайн— поставщик услуг ...</td>\n",
       "      <td>IT</td>\n",
       "    </tr>\n",
       "    <tr>\n",
       "      <th>1023</th>\n",
       "      <td>Andrey Galaktionov, [07.04.21 17:16]\\r\\nПрогра...</td>\n",
       "      <td>IT</td>\n",
       "    </tr>\n",
       "  </tbody>\n",
       "</table>\n",
       "</div>"
      ],
      "text/plain": [
       "                                                   data      IT\n",
       "2614  💚 Usetech приглашает в свою команду Team Lead ...      IT\n",
       "795   CMO / Head of ASO\\r\\nв ASOdesk — платформа для...  non-IT\n",
       "3113  Коммерческий директор\\r\\nв Малахит — компания ...  non-IT\n",
       "3137  Product Manager\\r\\nв Реклайн— поставщик услуг ...      IT\n",
       "1023  Andrey Galaktionov, [07.04.21 17:16]\\r\\nПрогра...      IT"
      ]
     },
     "execution_count": 52,
     "metadata": {},
     "output_type": "execute_result"
    }
   ],
   "source": [
    "df_it = df[['data', 'IT']]\n",
    "df_it.sample(5)"
   ]
  },
  {
   "cell_type": "code",
   "execution_count": 53,
   "id": "d14d2625",
   "metadata": {
    "scrolled": false
   },
   "outputs": [
    {
     "name": "stderr",
     "output_type": "stream",
     "text": [
      "<ipython-input-53-ae244801e245>:1: SettingWithCopyWarning: \n",
      "A value is trying to be set on a copy of a slice from a DataFrame.\n",
      "Try using .loc[row_indexer,col_indexer] = value instead\n",
      "\n",
      "See the caveats in the documentation: https://pandas.pydata.org/pandas-docs/stable/user_guide/indexing.html#returning-a-view-versus-a-copy\n",
      "  df_it['IT'] = df['IT'].apply(lambda x: 1 if 'IT' else 0)\n"
     ]
    }
   ],
   "source": [
    "df_it['IT'] = df['IT'].apply(lambda x: 1 if 'IT' else 0)"
   ]
  },
  {
   "cell_type": "code",
   "execution_count": 54,
   "id": "8a35deb9",
   "metadata": {},
   "outputs": [
    {
     "name": "stderr",
     "output_type": "stream",
     "text": [
      "100%|███████████████████████████████████████████████████████████████████████████| 3986/3986 [00:00<00:00, 28782.22it/s]\n"
     ]
    }
   ],
   "source": [
    "it_train_data = []\n",
    "\n",
    "for i in tqdm(range(len(df_it))):\n",
    "    it_train_data.append((df_it.iloc[i, 0], df_it.iloc[i, 1]))"
   ]
  },
  {
   "cell_type": "code",
   "execution_count": 55,
   "id": "d0962c2a",
   "metadata": {},
   "outputs": [],
   "source": [
    "def make_it_docs(data):\n",
    "    docs = []\n",
    "    for doc, label in nlp.pipe(data, as_tuples = True):\n",
    "        if label == 0:\n",
    "            doc.cats['non-IT'] = 1\n",
    "        else:\n",
    "            doc.cats['IT'] = 1\n",
    "        docs.append(doc)\n",
    "    return (docs)"
   ]
  },
  {
   "cell_type": "code",
   "execution_count": 56,
   "id": "16743cbe",
   "metadata": {},
   "outputs": [],
   "source": [
    "nlp = spacy.load('ru_core_news_sm')"
   ]
  },
  {
   "cell_type": "code",
   "execution_count": 57,
   "id": "685a4ee7",
   "metadata": {
    "scrolled": true
   },
   "outputs": [
    {
     "data": {
      "application/javascript": [
       "\n",
       "        if (window._pyforest_update_imports_cell) { window._pyforest_update_imports_cell('import numpy as np'); }\n",
       "    "
      ],
      "text/plain": [
       "<IPython.core.display.Javascript object>"
      ]
     },
     "metadata": {},
     "output_type": "display_data"
    },
    {
     "data": {
      "text/plain": [
       "3189"
      ]
     },
     "execution_count": 57,
     "metadata": {},
     "output_type": "execute_result"
    }
   ],
   "source": [
    "num_texts = int(np.round(len(df_it)*0.8))\n",
    "num_texts"
   ]
  },
  {
   "cell_type": "code",
   "execution_count": 58,
   "id": "e3bebd0d",
   "metadata": {},
   "outputs": [],
   "source": [
    "train_docs = make_docs(random.choices(vac_train_data, k=num_texts))\n",
    "doc_bin = DocBin(docs=train_docs)\n",
    "doc_bin.to_disk(\"./it_classifier/train.spacy\")\n",
    "\n",
    "valid_docs = make_docs(random.choices(vac_train_data, k=num_texts))\n",
    "doc_bin = DocBin(docs=valid_docs)\n",
    "doc_bin.to_disk(\"./it_classifier/valid.spacy\")"
   ]
  },
  {
   "cell_type": "code",
   "execution_count": 59,
   "id": "f9891c06",
   "metadata": {},
   "outputs": [
    {
     "name": "stdout",
     "output_type": "stream",
     "text": [
      "[+] Auto-filled config with all values\n",
      "[+] Saved config\n",
      "it_config.cfg\n",
      "You can now add your data and train your pipeline:\n",
      "python -m spacy train it_config.cfg --paths.train ./train.spacy --paths.dev ./dev.spacy\n"
     ]
    },
    {
     "name": "stderr",
     "output_type": "stream",
     "text": [
      "2021-07-05 22:17:41.185362: W tensorflow/stream_executor/platform/default/dso_loader.cc:64] Could not load dynamic library 'cudart64_110.dll'; dlerror: cudart64_110.dll not found\n",
      "2021-07-05 22:17:41.185607: I tensorflow/stream_executor/cuda/cudart_stub.cc:29] Ignore above cudart dlerror if you do not have a GPU set up on your machine.\n"
     ]
    }
   ],
   "source": [
    "!python -m spacy init fill-config ./it_base_config.cfg ./it_config.cfg"
   ]
  },
  {
   "cell_type": "code",
   "execution_count": 60,
   "id": "68f82cdf",
   "metadata": {
    "scrolled": true
   },
   "outputs": [
    {
     "name": "stdout",
     "output_type": "stream",
     "text": [
      "[+] Created output directory: it_output"
     ]
    },
    {
     "name": "stderr",
     "output_type": "stream",
     "text": [
      "2021-07-05 22:17:44.252139: W tensorflow/stream_executor/platform/default/dso_loader.cc:64] Could not load dynamic library 'cudart64_110.dll'; dlerror: cudart64_110.dll not found\n",
      "2021-07-05 22:17:44.252334: I tensorflow/stream_executor/cuda/cudart_stub.cc:29] Ignore above cudart dlerror if you do not have a GPU set up on your machine.\n",
      "[2021-07-05 22:17:46,358] [INFO] Set up nlp object from config\n",
      "[2021-07-05 22:17:46,364] [INFO] Pipeline: ['tok2vec', 'textcat']\n",
      "[2021-07-05 22:17:46,366] [INFO] Created vocabulary\n",
      "[2021-07-05 22:17:46,366] [INFO] Finished initializing nlp object\n",
      "[2021-07-05 22:17:55,220] [INFO] Initialized pipeline components: ['tok2vec', 'textcat']\n"
     ]
    },
    {
     "name": "stdout",
     "output_type": "stream",
     "text": [
      "\n",
      "[i] Using CPU\n",
      "\u001b[1m\n",
      "=========================== Initializing pipeline ===========================\u001b[0m\n",
      "[+] Initialized pipeline\n",
      "\u001b[1m\n",
      "============================= Training pipeline =============================\u001b[0m\n",
      "[i] Pipeline: ['tok2vec', 'textcat']\n",
      "[i] Initial learn rate: 0.001\n",
      "E    #       LOSS TOK2VEC  LOSS TEXTCAT  CATS_SCORE  SCORE \n",
      "---  ------  ------------  ------------  ----------  ------\n",
      "  0       0          0.00          0.25       46.20    0.46\n",
      "  0     200          0.00          8.85       47.99    0.48\n",
      "  0     400          0.00          9.48       61.11    0.61\n",
      "  0     600          0.00          6.39       67.87    0.68\n",
      "  0     800          0.00          4.84       66.61    0.67\n",
      "  0    1000          0.00          5.95       64.43    0.64\n",
      "  0    1200          0.00          7.11       68.92    0.69\n",
      "  0    1400          0.00          3.12       68.60    0.69\n",
      "  0    1600          0.00          6.19       68.99    0.69\n",
      "  1    1800          0.00          2.85       69.25    0.69\n",
      "  1    2000          0.00          3.09       69.69    0.70\n",
      "  1    2200          0.00          1.91       66.22    0.66\n",
      "  1    2400          0.00          0.82       66.62    0.67\n",
      "  2    2600          0.00          0.43       67.20    0.67\n",
      "  2    2800          0.00          0.27       67.88    0.68\n",
      "  2    3000          0.00          0.21       66.22    0.66\n",
      "  3    3200          0.00          0.23       67.16    0.67\n",
      "  3    3400          0.00          0.20       68.49    0.68\n",
      "  4    3600          0.00          0.18       69.89    0.70\n",
      "  4    3800          0.00          0.21       69.30    0.69\n",
      "  5    4000          0.00          0.17       69.18    0.69\n",
      "  5    4200          0.00          0.29       68.90    0.69\n",
      "  6    4400          0.00          0.27       69.91    0.70\n",
      "  6    4600          0.00          0.17       66.88    0.67\n",
      "  7    4800          0.00          0.23       67.85    0.68\n",
      "  7    5000          0.00          0.13       69.20    0.69\n",
      "  8    5200          0.00          0.29       68.69    0.69\n",
      "  8    5400          0.00          0.22       67.95    0.68\n",
      "  8    5600          0.00          0.18       68.76    0.69\n",
      "  9    5800          0.00          0.21       68.95    0.69\n",
      "  9    6000          0.00          0.24       68.26    0.68\n",
      "[+] Saved pipeline to output directory\n",
      "it_output\\model-last\n"
     ]
    }
   ],
   "source": [
    "!python -m spacy train it_config.cfg --output ./it_output"
   ]
  },
  {
   "cell_type": "markdown",
   "id": "1c33f39b",
   "metadata": {},
   "source": [
    "#### Data labelling for IT filtering"
   ]
  },
  {
   "cell_type": "code",
   "execution_count": 61,
   "id": "c3992ae1",
   "metadata": {},
   "outputs": [],
   "source": [
    "df_it = df[df['vacancy']!=0]"
   ]
  },
  {
   "cell_type": "code",
   "execution_count": 63,
   "id": "2a9bf55e",
   "metadata": {
    "scrolled": false
   },
   "outputs": [
    {
     "data": {
      "text/html": [
       "<div>\n",
       "<style scoped>\n",
       "    .dataframe tbody tr th:only-of-type {\n",
       "        vertical-align: middle;\n",
       "    }\n",
       "\n",
       "    .dataframe tbody tr th {\n",
       "        vertical-align: top;\n",
       "    }\n",
       "\n",
       "    .dataframe thead th {\n",
       "        text-align: right;\n",
       "    }\n",
       "</style>\n",
       "<table border=\"1\" class=\"dataframe\">\n",
       "  <thead>\n",
       "    <tr style=\"text-align: right;\">\n",
       "      <th></th>\n",
       "      <th>data</th>\n",
       "      <th>label</th>\n",
       "      <th>vacancy</th>\n",
       "      <th>IT</th>\n",
       "    </tr>\n",
       "  </thead>\n",
       "  <tbody>\n",
       "    <tr>\n",
       "      <th>535</th>\n",
       "      <td>#вакансия #Москва #разработчик #fullstack\\r\\nП...</td>\n",
       "      <td>Full Stack разработчик</td>\n",
       "      <td>1</td>\n",
       "      <td>IT</td>\n",
       "    </tr>\n",
       "    <tr>\n",
       "      <th>326</th>\n",
       "      <td>#вакансия \\n\\nКомпания: Smartbrain\\n\\nВилка 30...</td>\n",
       "      <td>unknown</td>\n",
       "      <td>1</td>\n",
       "      <td>IT</td>\n",
       "    </tr>\n",
       "    <tr>\n",
       "      <th>139</th>\n",
       "      <td>#вакансия #Москва #scala #spark #SCALA #Spring...</td>\n",
       "      <td>Java-разработчик</td>\n",
       "      <td>1</td>\n",
       "      <td>IT</td>\n",
       "    </tr>\n",
       "    <tr>\n",
       "      <th>2997</th>\n",
       "      <td>#вакансия #Санкт-Петербург\\r\\n\\r\\nГруппа компа...</td>\n",
       "      <td>PHP-разработчик</td>\n",
       "      <td>1</td>\n",
       "      <td>IT</td>\n",
       "    </tr>\n",
       "    <tr>\n",
       "      <th>1927</th>\n",
       "      <td>Senior Python Developer/Team Lead\\r\\nв ГдеМате...</td>\n",
       "      <td>Python-разработчик</td>\n",
       "      <td>1</td>\n",
       "      <td>IT</td>\n",
       "    </tr>\n",
       "  </tbody>\n",
       "</table>\n",
       "</div>"
      ],
      "text/plain": [
       "                                                   data  \\\n",
       "535   #вакансия #Москва #разработчик #fullstack\\r\\nП...   \n",
       "326   #вакансия \\n\\nКомпания: Smartbrain\\n\\nВилка 30...   \n",
       "139   #вакансия #Москва #scala #spark #SCALA #Spring...   \n",
       "2997  #вакансия #Санкт-Петербург\\r\\n\\r\\nГруппа компа...   \n",
       "1927  Senior Python Developer/Team Lead\\r\\nв ГдеМате...   \n",
       "\n",
       "                       label  vacancy  IT  \n",
       "535   Full Stack разработчик        1  IT  \n",
       "326                  unknown        1  IT  \n",
       "139         Java-разработчик        1  IT  \n",
       "2997         PHP-разработчик        1  IT  \n",
       "1927      Python-разработчик        1  IT  "
      ]
     },
     "execution_count": 63,
     "metadata": {},
     "output_type": "execute_result"
    }
   ],
   "source": [
    "df_it.sample(5)"
   ]
  },
  {
   "cell_type": "code",
   "execution_count": 64,
   "id": "0c026a4a",
   "metadata": {},
   "outputs": [],
   "source": [
    "df_it = df_it[['data', 'IT']]"
   ]
  },
  {
   "cell_type": "code",
   "execution_count": 67,
   "id": "c11b0a98",
   "metadata": {},
   "outputs": [],
   "source": [
    "from IPython.display import clear_output"
   ]
  },
  {
   "cell_type": "code",
   "execution_count": null,
   "id": "0ab14d66",
   "metadata": {},
   "outputs": [
    {
     "name": "stdout",
     "output_type": "stream",
     "text": [
      "312 out of 2867\n"
     ]
    }
   ],
   "source": [
    "### 1 if IT, 0 if not\n",
    "\n",
    "for i in range(len(df_it)):\n",
    "    print(i, 'out of', len(df_it))\n",
    "    df_it.iloc[i, 1] = input(df_it.iloc[i, 0]+'\\n')\n",
    "    clear_output()"
   ]
  }
 ],
 "metadata": {
  "kernelspec": {
   "display_name": "Python 3",
   "language": "python",
   "name": "python3"
  },
  "language_info": {
   "codemirror_mode": {
    "name": "ipython",
    "version": 3
   },
   "file_extension": ".py",
   "mimetype": "text/x-python",
   "name": "python",
   "nbconvert_exporter": "python",
   "pygments_lexer": "ipython3",
   "version": "3.9.5"
  }
 },
 "nbformat": 4,
 "nbformat_minor": 5
}
